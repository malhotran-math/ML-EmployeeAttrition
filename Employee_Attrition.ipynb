{
 "cells": [
  {
   "cell_type": "code",
   "execution_count": null,
   "metadata": {
    "colab": {},
    "colab_type": "code",
    "id": "XvjdkIhDJzwM"
   },
   "outputs": [],
   "source": [
    "#author: malhotran"
    "import pandas as pd\n",
    "import pickle\n",
    "import io\n",
    "from google.colab import files\n",
    "import seaborn as sns\n",
    "import time\n",
    "import matplotlib.pyplot as plt\n",
    "\n",
    "from sklearn import metrics\n",
    "from sklearn.model_selection import train_test_split\n",
    "from sklearn.ensemble import RandomForestClassifier\n",
    "from sklearn.preprocessing import LabelEncoder\n",
    "from sklearn.metrics import accuracy_score\n",
    "from sklearn.preprocessing import MinMaxScaler as MinMaxScaler\n",
    "from sklearn.model_selection import GridSearchCV\n",
    "from sklearn.datasets import load_digits\n",
    "from sklearn.feature_selection import SelectKBest, chi2\n",
    "from sklearn.ensemble import ExtraTreesClassifier\n",
    "from sklearn.neighbors import KNeighborsClassifier\n",
    "from sklearn.metrics import classification_report, confusion_matrix\n",
    "from sklearn.model_selection import cross_val_score\n",
    "from sklearn.decomposition import PCA\n",
    "from sklearn.metrics import confusion_matrix\n",
    "from sklearn.svm import SVC\n",
    "from sklearn import preprocessing\n",
    "from sklearn.linear_model import LogisticRegression\n",
    "from sklearn.svm import LinearSVC\n"
   ]
  },
  {
   "cell_type": "code",
   "execution_count": null,
   "metadata": {
    "colab": {
     "base_uri": "https://localhost:8080/",
     "height": 74,
     "resources": {
      "http://localhost:8080/nbextensions/google.colab/files.js": {
       "data": "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",
       "headers": [
        [
         "content-type",
         "application/javascript"
        ]
       ],
       "ok": true,
       "status": 200,
       "status_text": ""
      }
     }
    },
    "colab_type": "code",
    "id": "9_aDuYd3QtrM",
    "outputId": "1d327f4f-a9bc-46fd-fbb5-11a1b16e508a"
   },
   "outputs": [
    {
     "data": {
      "text/html": [
       "\n",
       "     <input type=\"file\" id=\"files-4758c2d4-ec2d-4b38-83f5-0e7892e9ec9f\" name=\"files[]\" multiple disabled />\n",
       "     <output id=\"result-4758c2d4-ec2d-4b38-83f5-0e7892e9ec9f\">\n",
       "      Upload widget is only available when the cell has been executed in the\n",
       "      current browser session. Please rerun this cell to enable.\n",
       "      </output>\n",
       "      <script src=\"/nbextensions/google.colab/files.js\"></script> "
      ],
      "text/plain": [
       "<IPython.core.display.HTML object>"
      ]
     },
     "metadata": {
      "tags": []
     },
     "output_type": "display_data"
    },
    {
     "name": "stdout",
     "output_type": "stream",
     "text": [
      "Saving WA_Fn-UseC_-HR-Employee-Attrition.csv to WA_Fn-UseC_-HR-Employee-Attrition (2).csv\n"
     ]
    }
   ],
   "source": [
    "uploaded = files.upload()"
   ]
  },
  {
   "cell_type": "code",
   "execution_count": null,
   "metadata": {
    "colab": {
     "base_uri": "https://localhost:8080/",
     "height": 54
    },
    "colab_type": "code",
    "id": "o-jiOCc7RUX3",
    "outputId": "ed74ab0a-f31c-4cb6-850b-a2077ae2067b"
   },
   "outputs": [
    {
     "name": "stdout",
     "output_type": "stream",
     "text": [
      "﻿Age,Attrition,BusinessTravel,DailyRate,Department,DistanceFromHome,Education,EducationField,EmployeeCount,EmployeeNumber,EnvironmentSatisfaction,Gender,HourlyRate,JobInvolvement,JobLevel,JobRole,Jo...\n"
     ]
    }
   ],
   "source": [
    "print (uploaded['WA_Fn-UseC_-HR-Employee-Attrition.csv'][:200].decode('utf-8') + '...')"
   ]
  },
  {
   "cell_type": "code",
   "execution_count": null,
   "metadata": {
    "colab": {
     "base_uri": "https://localhost:8080/",
     "height": 622
    },
    "colab_type": "code",
    "id": "KjoWLp46RnB8",
    "outputId": "d598248a-4ff6-47d5-ffd2-67ac76d426b7"
   },
   "outputs": [
    {
     "data": {
      "text/plain": [
       "Age                         0\n",
       "Attrition                   0\n",
       "BusinessTravel              0\n",
       "DailyRate                   0\n",
       "Department                  0\n",
       "DistanceFromHome            0\n",
       "Education                   0\n",
       "EducationField              0\n",
       "EmployeeCount               0\n",
       "EmployeeNumber              0\n",
       "EnvironmentSatisfaction     0\n",
       "Gender                      0\n",
       "HourlyRate                  0\n",
       "JobInvolvement              0\n",
       "JobLevel                    0\n",
       "JobRole                     0\n",
       "JobSatisfaction             0\n",
       "MaritalStatus               0\n",
       "MonthlyIncome               0\n",
       "MonthlyRate                 0\n",
       "NumCompaniesWorked          0\n",
       "Over18                      0\n",
       "OverTime                    0\n",
       "PercentSalaryHike           0\n",
       "PerformanceRating           0\n",
       "RelationshipSatisfaction    0\n",
       "StandardHours               0\n",
       "StockOptionLevel            0\n",
       "TotalWorkingYears           0\n",
       "TrainingTimesLastYear       0\n",
       "WorkLifeBalance             0\n",
       "YearsAtCompany              0\n",
       "YearsInCurrentRole          0\n",
       "YearsSinceLastPromotion     0\n",
       "YearsWithCurrManager        0\n",
       "dtype: int64"
      ]
     },
     "execution_count": 106,
     "metadata": {
      "tags": []
     },
     "output_type": "execute_result"
    }
   ],
   "source": [
    "df = pd.read_csv(io.StringIO(uploaded['WA_Fn-UseC_-HR-Employee-Attrition.csv'].decode('utf-8')))\n",
    "# Missing values check\n",
    "df.isnull().sum()"
   ]
  },
  {
   "cell_type": "code",
   "execution_count": null,
   "metadata": {
    "colab": {},
    "colab_type": "code",
    "id": "T_UKupMVSQwk"
   },
   "outputs": [],
   "source": [
    "# Data pre-processing"
   ]
  },
  {
   "cell_type": "code",
   "execution_count": null,
   "metadata": {
    "colab": {},
    "colab_type": "code",
    "id": "QmAYEgljSUBK"
   },
   "outputs": [],
   "source": []
  },
  {
   "cell_type": "code",
   "execution_count": null,
   "metadata": {
    "colab": {},
    "colab_type": "code",
    "id": "JN2vb9R2Scpg"
   },
   "outputs": [],
   "source": [
    "# One hot encoding\n",
    "le = LabelEncoder()\n",
    "encoded_series = df[df.columns[:]].apply(le.fit_transform)\n",
    "encoded_series\n",
    "df['Attrition'] = encoded_series['Attrition']\n",
    "df['BusinessTravel'] = encoded_series['BusinessTravel']\n",
    "df['Department'] = encoded_series['Department']\n",
    "df['EducationField'] = encoded_series['EducationField']\n",
    "df['Gender'] = encoded_series['Gender']\n",
    "df['JobRole'] = encoded_series['JobRole']\n",
    "df['MaritalStatus'] = encoded_series['MaritalStatus']\n",
    "df['Over18'] = encoded_series['Over18']\n",
    "df['OverTime'] = encoded_series['OverTime']"
   ]
  },
  {
   "cell_type": "code",
   "execution_count": null,
   "metadata": {
    "colab": {
     "base_uri": "https://localhost:8080/",
     "height": 403
    },
    "colab_type": "code",
    "id": "OosCA3OZEdEN",
    "outputId": "375ce16e-b207-4d22-8db2-4322ab74453f"
   },
   "outputs": [
    {
     "data": {
      "text/plain": [
       "<matplotlib.axes._subplots.AxesSubplot at 0x7f7f66702550>"
      ]
     },
     "execution_count": 109,
     "metadata": {
      "tags": []
     },
     "output_type": "execute_result"
    },
    {
     "data": {
      "image/png": "iVBORw0KGgoAAAANSUhEUgAAAdoAAAFxCAYAAADUP2mCAAAABHNCSVQICAgIfAhkiAAAAAlwSFlz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\n",
      "text/plain": [
       "<Figure size 432x288 with 2 Axes>"
      ]
     },
     "metadata": {
      "tags": []
     },
     "output_type": "display_data"
    }
   ],
   "source": [
    "#Heat map\n",
    "var_corr_encoded = df.corr()\n",
    "sns.heatmap(var_corr_encoded, xticklabels=var_corr_encoded.columns, yticklabels=var_corr_encoded.columns, annot=False)"
   ]
  },
  {
   "cell_type": "code",
   "execution_count": null,
   "metadata": {
    "colab": {},
    "colab_type": "code",
    "id": "sxbYB_8gSegM"
   },
   "outputs": [],
   "source": [
    "# Assigning target and features\n",
    "target = df['Attrition']\n",
    "features = df.drop('Attrition', axis = 1)"
   ]
  },
  {
   "cell_type": "code",
   "execution_count": null,
   "metadata": {
    "colab": {},
    "colab_type": "code",
    "id": "plxXZLTQUPA6"
   },
   "outputs": [],
   "source": []
  },
  {
   "cell_type": "code",
   "execution_count": null,
   "metadata": {
    "colab": {},
    "colab_type": "code",
    "id": "BsGAusIVv8fc"
   },
   "outputs": [],
   "source": [
    "#Creating a stratified random sampling\n",
    "\n",
    "#Fixing the test data size as 10% of the total size, i.e. - 147 values maintaining the yes attrition as 16% = 24 values.\n",
    "#This is done as the yes attrition rate is very low and therefore we are stratifying our data.\n",
    "\n",
    "yes_attrition_df = df.loc[df['Attrition']== 1]\n",
    "no_attrition_df=df.loc[df['Attrition']==0]\n",
    "no_attrition_df_train = no_attrition_df\n",
    "no_attrition_df_test = no_attrition_df.sample(n=123)\n",
    "no_attrition_df_train[~no_attrition_df_train.isin(no_attrition_df_test)].dropna()\n",
    "yes_attrition_df_test = yes_attrition_df.sample(n=24)\n",
    "yes_attrition_df_train = yes_attrition_df\n",
    "yes_attrition_df_train[~yes_attrition_df_train.isin(yes_attrition_df_test)].dropna()\n",
    "df_train = yes_attrition_df_train.append(no_attrition_df_train)\n",
    "df_test = yes_attrition_df_test.append(no_attrition_df_test)\n",
    "  \n",
    "#Test and Train Data split\n",
    "y_train = df_train['Attrition']\n",
    "X_train = df_train.drop('Attrition',axis=1)\n",
    "\n",
    "y_test = df_test['Attrition']\n",
    "X_test = df_test.drop('Attrition',axis=1)\n",
    "\n"
   ]
  },
  {
   "cell_type": "code",
   "execution_count": null,
   "metadata": {
    "colab": {},
    "colab_type": "code",
    "id": "vzK-ch4PSgzO"
   },
   "outputs": [],
   "source": [
    "# Normalising the columns to make comparision easier\n",
    "# Create the scaler object with a range of 0-1\n",
    "scaler = MinMaxScaler(feature_range = (0, 1))\n",
    "\n",
    "# Fit on the training data\n",
    "scaler.fit(X_train)\n",
    "\n",
    "# Transform both the training and testing data\n",
    "X_train = scaler.transform(X_train)\n",
    "X_test = scaler.transform(X_test)"
   ]
  },
  {
   "cell_type": "code",
   "execution_count": null,
   "metadata": {
    "colab": {
     "base_uri": "https://localhost:8080/",
     "height": 50
    },
    "colab_type": "code",
    "id": "QoaVtjm7SjIa",
    "outputId": "c2172d69-9bc8-4748-b548-4df826287ffb"
   },
   "outputs": [
    {
     "name": "stderr",
     "output_type": "stream",
     "text": [
      "/usr/local/lib/python3.6/dist-packages/sklearn/ensemble/forest.py:245: FutureWarning: The default value of n_estimators will change from 10 in version 0.20 to 100 in 0.22.\n",
      "  \"10 in version 0.20 to 100 in 0.22.\", FutureWarning)\n"
     ]
    }
   ],
   "source": [
    "# Model 1: Random Forest\n",
    "start_time = time.time()\n",
    "model = RandomForestClassifier()\n",
    "model.fit(X_train,y_train)\n",
    "# Pickle dump the trained model\n",
    "filename = 'Random_forest_finalized_model.sav'\n",
    "pickle.dump(model, open(filename, 'wb'))"
   ]
  },
  {
   "cell_type": "code",
   "execution_count": null,
   "metadata": {
    "colab": {
     "base_uri": "https://localhost:8080/",
     "height": 50
    },
    "colab_type": "code",
    "id": "E_JWBEvgu3_E",
    "outputId": "d8f22ee4-1290-4603-cb08-2ed686890105"
   },
   "outputs": [
    {
     "name": "stdout",
     "output_type": "stream",
     "text": [
      "0.9319727891156463\n",
      "Duration: --- 0.02535879611968994 Minutes ---\n"
     ]
    }
   ],
   "source": [
    "# Predict the results for test set\n",
    "loaded_model = pickle.load(open(filename, 'rb'))\n",
    "result = loaded_model.score(X_test, y_test)\n",
    "# Test the accuracy\n",
    "print(result)\n",
    "print(\"Duration: --- %s Minutes ---\" % ((time.time() - start_time)/60))"
   ]
  },
  {
   "cell_type": "code",
   "execution_count": null,
   "metadata": {
    "colab": {
     "base_uri": "https://localhost:8080/",
     "height": 282
    },
    "colab_type": "code",
    "id": "DLXel4-lSm88",
    "outputId": "a4034238-7eac-4bf7-de49-33aeca801688"
   },
   "outputs": [
    {
     "data": {
      "text/plain": [
       "<matplotlib.axes._subplots.AxesSubplot at 0x7f7f6684b898>"
      ]
     },
     "execution_count": 91,
     "metadata": {
      "tags": []
     },
     "output_type": "execute_result"
    },
    {
     "data": {
      "image/png": "iVBORw0KGgoAAAANSUhEUgAAAd0AAAD4CAYAAACpKzxfAAAABHNCSVQICAgIfAhkiAAAAAlwSFlz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\nNeJO18zMrEbc6ZqZmdWIO10zM7Ma+f9XXxb7uPgGCgAAAABJRU5ErkJggg==\n",
      "text/plain": [
       "<Figure size 432x288 with 1 Axes>"
      ]
     },
     "metadata": {
      "tags": []
     },
     "output_type": "display_data"
    }
   ],
   "source": [
    "# Feature selection of Model - 1\n",
    "feat_importances = pd.Series(model.feature_importances_, index=features.columns)\n",
    "feat_importances = feat_importances.nlargest(15)\n",
    "feat_importances.plot(kind='barh')"
   ]
  },
  {
   "cell_type": "code",
   "execution_count": null,
   "metadata": {
    "colab": {
     "base_uri": "https://localhost:8080/",
     "height": 171
    },
    "colab_type": "code",
    "id": "jLPMv_aXPeNw",
    "outputId": "35f17ab0-6a41-488c-a361-923e834ce4f4"
   },
   "outputs": [
    {
     "name": "stderr",
     "output_type": "stream",
     "text": [
      "/usr/local/lib/python3.6/dist-packages/sklearn/model_selection/_split.py:1978: FutureWarning: The default value of cv will change from 3 to 5 in version 0.22. Specify it explicitly to silence this warning.\n",
      "  warnings.warn(CV_WARNING, FutureWarning)\n"
     ]
    },
    {
     "name": "stdout",
     "output_type": "stream",
     "text": [
      "Best Hyper Parameters:\n",
      " {'criterion': 'entropy', 'min_samples_leaf': 1, 'min_samples_split': 5, 'n_estimators': 15, 'n_jobs': -1, 'random_state': 100}\n",
      "Accuracy: 0.9863945578231292\n",
      "Confusion Metrix:\n",
      " [[123   2]\n",
      " [  0  22]]\n"
     ]
    }
   ],
   "source": [
    "#Hyper Parameters Tuning\n",
    "#Randomforest\n",
    "#importing modules\n",
    "\n",
    "#making the instance\n",
    "model=RandomForestClassifier()\n",
    "#hyper parameters set\n",
    "params = {'criterion':['gini','entropy'],\n",
    "          'n_estimators':[10,15,20,25],\n",
    "          'min_samples_leaf':[1,2,3],\n",
    "          'min_samples_split':[3,4,5,6,7], \n",
    "          'random_state':[124,100],\n",
    "          'n_jobs':[-1]}\n",
    "#Making models with hyper parameters sets\n",
    "model1 = GridSearchCV(model, param_grid=params, n_jobs=-1)\n",
    "#learning\n",
    "model1.fit(X_train,y_train)\n",
    "#The best hyper parameters set\n",
    "print(\"Best Hyper Parameters:\\n\",model1.best_params_)\n",
    "#Prediction\n",
    "prediction=model1.predict(X_test)\n",
    "#importing the metrics module\n",
    "#evaluation(Accuracy)\n",
    "print(\"Accuracy:\",metrics.accuracy_score(prediction,y_test))\n",
    "#evaluation(Confusion Metrix)\n",
    "print(\"Confusion Metrix:\\n\",metrics.confusion_matrix(prediction,y_test))"
   ]
  },
  {
   "cell_type": "code",
   "execution_count": null,
   "metadata": {
    "colab": {},
    "colab_type": "code",
    "id": "5xYFQqkgSrMR"
   },
   "outputs": [],
   "source": []
  },
  {
   "cell_type": "code",
   "execution_count": null,
   "metadata": {
    "colab": {
     "base_uri": "https://localhost:8080/",
     "height": 84
    },
    "colab_type": "code",
    "id": "jfKkEeF6SvtF",
    "outputId": "e480ab2f-28f6-4b0d-ae16-71b4d29ea3f3"
   },
   "outputs": [
    {
     "name": "stdout",
     "output_type": "stream",
     "text": [
      "1.0\n",
      "Duration: --- 0.000712736447652181 Minutes ---\n"
     ]
    },
    {
     "name": "stderr",
     "output_type": "stream",
     "text": [
      "/usr/local/lib/python3.6/dist-packages/sklearn/ensemble/forest.py:245: FutureWarning: The default value of n_estimators will change from 10 in version 0.20 to 100 in 0.22.\n",
      "  \"10 in version 0.20 to 100 in 0.22.\", FutureWarning)\n"
     ]
    }
   ],
   "source": [
    "# Model 2: ExtraTrees Classifier \n",
    "\n",
    "from sklearn.model_selection import GridSearchCV\n",
    "\n",
    "model = ExtraTreesClassifier()\n",
    "start_time = time.time()\n",
    "model.fit(X_train, y_train)\n",
    "# Predict the results for test set\n",
    "test_pred = model.predict(X_test)\n",
    "# Test the accuracy\n",
    "print(accuracy_score(y_test, test_pred))\n",
    "print(\"Duration: --- %s Minutes ---\" % ((time.time() - start_time)/60))"
   ]
  },
  {
   "cell_type": "code",
   "execution_count": null,
   "metadata": {
    "colab": {
     "base_uri": "https://localhost:8080/",
     "height": 118
    },
    "colab_type": "code",
    "id": "Iyr3S1mOaB76",
    "outputId": "e45dd55b-b959-4f22-91b4-93c573e99c20"
   },
   "outputs": [
    {
     "name": "stdout",
     "output_type": "stream",
     "text": [
      "Best Hyper Parameters:\n",
      " {'criterion': 'gini', 'min_samples_leaf': 1, 'min_samples_split': 2, 'n_estimators': 32, 'n_jobs': -1, 'random_state': 100}\n",
      "Accuracy: 1.0\n",
      "Confusion Metrix:\n",
      " [[123   0]\n",
      " [  0  24]]\n"
     ]
    }
   ],
   "source": [
    "# Hyper-parameter tuning\n",
    "# Extratrees classifier\n",
    "\n",
    "from sklearn.model_selection import GridSearchCV\n",
    "\n",
    "model = ExtraTreesClassifier()\n",
    "\n",
    "#cv=3, n_jobs=3, verbose=1, scoring=None, refit=False\n",
    "\n",
    "#hyper parameters set\n",
    "params = {'criterion':['gini'],\n",
    "          'n_estimators':[16, 32],\n",
    "          'min_samples_leaf':[1],\n",
    "          'min_samples_split':[2], \n",
    "          'random_state':[124, 100],\n",
    "          'n_jobs':[-1]}\n",
    "\n",
    "#Making models with hyper parameters sets\n",
    "model1 = GridSearchCV(model, cv = 3, param_grid=params, n_jobs = -1)\n",
    "#learning\n",
    "model1.fit(X_train,y_train)\n",
    "#The best hyper parameters set\n",
    "print(\"Best Hyper Parameters:\\n\",model1.best_params_)\n",
    "#Prediction\n",
    "prediction=model1.predict(X_test)\n",
    "#importing the metrics module\n",
    "#evaluation(Accuracy)\n",
    "print(\"Accuracy:\",metrics.accuracy_score(prediction,y_test))\n",
    "#evaluation(Confusion Metrix)\n",
    "print(\"Confusion Metrix:\\n\",metrics.confusion_matrix(prediction,y_test))"
   ]
  },
  {
   "cell_type": "code",
   "execution_count": null,
   "metadata": {
    "colab": {
     "base_uri": "https://localhost:8080/",
     "height": 202
    },
    "colab_type": "code",
    "id": "LYcQBAXdS3vN",
    "outputId": "86dc67ae-18c4-4871-ea8b-6f4e653fb288"
   },
   "outputs": [
    {
     "name": "stdout",
     "output_type": "stream",
     "text": [
      "[[123   0]\n",
      " [ 15   9]]\n",
      "              precision    recall  f1-score   support\n",
      "\n",
      "           0       0.89      1.00      0.94       123\n",
      "           1       1.00      0.38      0.55        24\n",
      "\n",
      "    accuracy                           0.90       147\n",
      "   macro avg       0.95      0.69      0.74       147\n",
      "weighted avg       0.91      0.90      0.88       147\n",
      "\n"
     ]
    }
   ],
   "source": [
    "# Model 3: KNN\n",
    "classifier = KNeighborsClassifier(n_neighbors=2)\n",
    "start_time = time.time()\n",
    "classifier.fit(X_train, y_train)\n",
    "y_pred = classifier.predict(X_test)\n",
    "print(confusion_matrix(y_test, y_pred))\n",
    "print(classification_report(y_test, y_pred))\n",
    "print(\"Duration: --- %s Minutes ---\" % ((time.time() - start_time)/60))"
   ]
  },
  {
   "cell_type": "code",
   "execution_count": null,
   "metadata": {
    "colab": {
     "base_uri": "https://localhost:8080/",
     "height": 296
    },
    "colab_type": "code",
    "id": "yBRR8BfuVDT-",
    "outputId": "5de8dfd9-9fc0-4706-a788-801f9480fbfe"
   },
   "outputs": [
    {
     "name": "stdout",
     "output_type": "stream",
     "text": [
      "The optimal number of neighbors is 9\n"
     ]
    },
    {
     "data": {
      "image/png": "iVBORw0KGgoAAAANSUhEUgAAAYgAAAEGCAYAAAB/+QKOAAAABHNCSVQICAgIfAhkiAAAAAlwSFlz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\nUf1/50Iz8VDKfnoAAAAASUVORK5CYII=\n",
      "text/plain": [
       "<Figure size 432x288 with 1 Axes>"
      ]
     },
     "metadata": {
      "tags": []
     },
     "output_type": "display_data"
    }
   ],
   "source": [
    "# k-parameter tuning\n",
    "\n",
    "# creating odd list of K for KNN\n",
    "neighbors = list(range(1, 50, 2))\n",
    "\n",
    "# empty list that will hold cv scores\n",
    "cv_scores = []\n",
    "\n",
    "# perform 10-fold cross validation\n",
    "for k in neighbors:\n",
    "    knn = KNeighborsClassifier(n_neighbors=k)\n",
    "    scores = cross_val_score(knn, X_train, y_train, cv=10, scoring='accuracy')\n",
    "    cv_scores.append(scores.mean())\n",
    "    \n",
    "# changing to misclassification error\n",
    "mse = [1 - x for x in cv_scores]\n",
    "\n",
    "# determining best k\n",
    "optimal_k = neighbors[mse.index(min(mse))]\n",
    "print(\"The optimal number of neighbors is {}\".format(optimal_k))\n",
    "\n",
    "# plot misclassification error vs k\n",
    "plt.plot(neighbors, mse)\n",
    "plt.xlabel(\"Number of Neighbors K\")\n",
    "plt.ylabel(\"Misclassification Error\")\n",
    "plt.show()"
   ]
  },
  {
   "cell_type": "code",
   "execution_count": null,
   "metadata": {
    "colab": {},
    "colab_type": "code",
    "id": "UItzBtS1VKUd"
   },
   "outputs": [],
   "source": []
  },
  {
   "cell_type": "code",
   "execution_count": null,
   "metadata": {
    "colab": {},
    "colab_type": "code",
    "id": "viOVIL_rTLjp"
   },
   "outputs": [],
   "source": [
    "# Model 4: SVM\n",
    "svclassifier = SVC(kernel='linear')\n",
    "X_train = preprocessing.scale(X_train)\n",
    "X_test = preprocessing.scale(X_test)\n",
    "start_time = time.time()\n",
    "svclassifier.fit(X_train, y_train)\n",
    "y_pred = svclassifier.predict(X_test)\n",
    "\n",
    "print(\"Duration: --- %s Minutes ---\" % ((time.time() - start_time)/60))"
   ]
  },
  {
   "cell_type": "code",
   "execution_count": null,
   "metadata": {
    "colab": {
     "base_uri": "https://localhost:8080/",
     "height": 202
    },
    "colab_type": "code",
    "id": "B4-gGj6eTOw4",
    "outputId": "7199c840-ee13-4970-ebef-0e5d0950476d"
   },
   "outputs": [
    {
     "name": "stdout",
     "output_type": "stream",
     "text": [
      "[[122   1]\n",
      " [ 15   9]]\n",
      "              precision    recall  f1-score   support\n",
      "\n",
      "           0       0.89      0.99      0.94       123\n",
      "           1       0.90      0.38      0.53        24\n",
      "\n",
      "    accuracy                           0.89       147\n",
      "   macro avg       0.90      0.68      0.73       147\n",
      "weighted avg       0.89      0.89      0.87       147\n",
      "\n"
     ]
    }
   ],
   "source": [
    "print(confusion_matrix(y_test, y_pred))\n",
    "print(classification_report(y_test, y_pred))"
   ]
  },
  {
   "cell_type": "code",
   "execution_count": null,
   "metadata": {
    "colab": {
     "base_uri": "https://localhost:8080/",
     "height": 1000
    },
    "colab_type": "code",
    "id": "7otZx-vAR14k",
    "outputId": "e83a1bda-2492-44b2-b35f-88c5744624fe"
   },
   "outputs": [
    {
     "name": "stderr",
     "output_type": "stream",
     "text": [
      "/usr/local/lib/python3.6/dist-packages/sklearn/model_selection/_split.py:1978: FutureWarning: The default value of cv will change from 3 to 5 in version 0.22. Specify it explicitly to silence this warning.\n",
      "  warnings.warn(CV_WARNING, FutureWarning)\n",
      "[Parallel(n_jobs=1)]: Using backend SequentialBackend with 1 concurrent workers.\n",
      "[Parallel(n_jobs=1)]: Done   1 out of   1 | elapsed:    0.1s remaining:    0.0s\n"
     ]
    },
    {
     "name": "stdout",
     "output_type": "stream",
     "text": [
      "Fitting 3 folds for each of 25 candidates, totalling 75 fits\n",
      "[CV] C=0.1, gamma=1, kernel=rbf ......................................\n",
      "[CV] .......... C=0.1, gamma=1, kernel=rbf, score=0.839, total=   0.1s\n",
      "[CV] C=0.1, gamma=1, kernel=rbf ......................................\n",
      "[CV] .......... C=0.1, gamma=1, kernel=rbf, score=0.839, total=   0.1s\n",
      "[CV] C=0.1, gamma=1, kernel=rbf ......................................\n",
      "[CV] .......... C=0.1, gamma=1, kernel=rbf, score=0.839, total=   0.1s\n",
      "[CV] C=0.1, gamma=0.1, kernel=rbf ....................................\n"
     ]
    },
    {
     "name": "stderr",
     "output_type": "stream",
     "text": [
      "[Parallel(n_jobs=1)]: Done   2 out of   2 | elapsed:    0.3s remaining:    0.0s\n"
     ]
    },
    {
     "name": "stdout",
     "output_type": "stream",
     "text": [
      "[CV] ........ C=0.1, gamma=0.1, kernel=rbf, score=0.839, total=   0.1s\n",
      "[CV] C=0.1, gamma=0.1, kernel=rbf ....................................\n",
      "[CV] ........ C=0.1, gamma=0.1, kernel=rbf, score=0.839, total=   0.1s\n",
      "[CV] C=0.1, gamma=0.1, kernel=rbf ....................................\n",
      "[CV] ........ C=0.1, gamma=0.1, kernel=rbf, score=0.839, total=   0.1s\n",
      "[CV] C=0.1, gamma=0.01, kernel=rbf ...................................\n",
      "[CV] ....... C=0.1, gamma=0.01, kernel=rbf, score=0.839, total=   0.0s\n",
      "[CV] C=0.1, gamma=0.01, kernel=rbf ...................................\n",
      "[CV] ....... C=0.1, gamma=0.01, kernel=rbf, score=0.839, total=   0.0s\n",
      "[CV] C=0.1, gamma=0.01, kernel=rbf ...................................\n",
      "[CV] ....... C=0.1, gamma=0.01, kernel=rbf, score=0.839, total=   0.0s\n",
      "[CV] C=0.1, gamma=0.001, kernel=rbf ..................................\n",
      "[CV] ...... C=0.1, gamma=0.001, kernel=rbf, score=0.839, total=   0.0s\n",
      "[CV] C=0.1, gamma=0.001, kernel=rbf ..................................\n",
      "[CV] ...... C=0.1, gamma=0.001, kernel=rbf, score=0.839, total=   0.0s\n",
      "[CV] C=0.1, gamma=0.001, kernel=rbf ..................................\n",
      "[CV] ...... C=0.1, gamma=0.001, kernel=rbf, score=0.839, total=   0.0s\n",
      "[CV] C=0.1, gamma=0.0001, kernel=rbf .................................\n",
      "[CV] ..... C=0.1, gamma=0.0001, kernel=rbf, score=0.839, total=   0.0s\n",
      "[CV] C=0.1, gamma=0.0001, kernel=rbf .................................\n",
      "[CV] ..... C=0.1, gamma=0.0001, kernel=rbf, score=0.839, total=   0.0s\n",
      "[CV] C=0.1, gamma=0.0001, kernel=rbf .................................\n",
      "[CV] ..... C=0.1, gamma=0.0001, kernel=rbf, score=0.839, total=   0.0s\n",
      "[CV] C=1, gamma=1, kernel=rbf ........................................\n",
      "[CV] ............ C=1, gamma=1, kernel=rbf, score=0.839, total=   0.1s\n",
      "[CV] C=1, gamma=1, kernel=rbf ........................................\n",
      "[CV] ............ C=1, gamma=1, kernel=rbf, score=0.839, total=   0.1s\n",
      "[CV] C=1, gamma=1, kernel=rbf ........................................\n",
      "[CV] ............ C=1, gamma=1, kernel=rbf, score=0.839, total=   0.1s\n",
      "[CV] C=1, gamma=0.1, kernel=rbf ......................................\n",
      "[CV] .......... C=1, gamma=0.1, kernel=rbf, score=0.839, total=   0.1s\n",
      "[CV] C=1, gamma=0.1, kernel=rbf ......................................\n",
      "[CV] .......... C=1, gamma=0.1, kernel=rbf, score=0.843, total=   0.1s\n",
      "[CV] C=1, gamma=0.1, kernel=rbf ......................................\n",
      "[CV] .......... C=1, gamma=0.1, kernel=rbf, score=0.839, total=   0.1s\n",
      "[CV] C=1, gamma=0.01, kernel=rbf .....................................\n",
      "[CV] ......... C=1, gamma=0.01, kernel=rbf, score=0.839, total=   0.0s\n",
      "[CV] C=1, gamma=0.01, kernel=rbf .....................................\n",
      "[CV] ......... C=1, gamma=0.01, kernel=rbf, score=0.851, total=   0.0s\n",
      "[CV] C=1, gamma=0.01, kernel=rbf .....................................\n",
      "[CV] ......... C=1, gamma=0.01, kernel=rbf, score=0.841, total=   0.0s\n",
      "[CV] C=1, gamma=0.001, kernel=rbf ....................................\n",
      "[CV] ........ C=1, gamma=0.001, kernel=rbf, score=0.839, total=   0.0s\n",
      "[CV] C=1, gamma=0.001, kernel=rbf ....................................\n",
      "[CV] ........ C=1, gamma=0.001, kernel=rbf, score=0.839, total=   0.0s\n",
      "[CV] C=1, gamma=0.001, kernel=rbf ....................................\n",
      "[CV] ........ C=1, gamma=0.001, kernel=rbf, score=0.839, total=   0.0s\n",
      "[CV] C=1, gamma=0.0001, kernel=rbf ...................................\n",
      "[CV] ....... C=1, gamma=0.0001, kernel=rbf, score=0.839, total=   0.0s\n",
      "[CV] C=1, gamma=0.0001, kernel=rbf ...................................\n",
      "[CV] ....... C=1, gamma=0.0001, kernel=rbf, score=0.839, total=   0.0s\n",
      "[CV] C=1, gamma=0.0001, kernel=rbf ...................................\n",
      "[CV] ....... C=1, gamma=0.0001, kernel=rbf, score=0.839, total=   0.0s\n",
      "[CV] C=10, gamma=1, kernel=rbf .......................................\n",
      "[CV] ........... C=10, gamma=1, kernel=rbf, score=0.839, total=   0.1s\n",
      "[CV] C=10, gamma=1, kernel=rbf .......................................\n",
      "[CV] ........... C=10, gamma=1, kernel=rbf, score=0.839, total=   0.1s\n",
      "[CV] C=10, gamma=1, kernel=rbf .......................................\n",
      "[CV] ........... C=10, gamma=1, kernel=rbf, score=0.839, total=   0.2s\n",
      "[CV] C=10, gamma=0.1, kernel=rbf .....................................\n",
      "[CV] ......... C=10, gamma=0.1, kernel=rbf, score=0.843, total=   0.1s\n",
      "[CV] C=10, gamma=0.1, kernel=rbf .....................................\n",
      "[CV] ......... C=10, gamma=0.1, kernel=rbf, score=0.843, total=   0.1s\n",
      "[CV] C=10, gamma=0.1, kernel=rbf .....................................\n",
      "[CV] ......... C=10, gamma=0.1, kernel=rbf, score=0.849, total=   0.1s\n",
      "[CV] C=10, gamma=0.01, kernel=rbf ....................................\n",
      "[CV] ........ C=10, gamma=0.01, kernel=rbf, score=0.855, total=   0.1s\n",
      "[CV] C=10, gamma=0.01, kernel=rbf ....................................\n",
      "[CV] ........ C=10, gamma=0.01, kernel=rbf, score=0.865, total=   0.1s\n",
      "[CV] C=10, gamma=0.01, kernel=rbf ....................................\n",
      "[CV] ........ C=10, gamma=0.01, kernel=rbf, score=0.871, total=   0.1s\n",
      "[CV] C=10, gamma=0.001, kernel=rbf ...................................\n",
      "[CV] ....... C=10, gamma=0.001, kernel=rbf, score=0.839, total=   0.0s\n",
      "[CV] C=10, gamma=0.001, kernel=rbf ...................................\n",
      "[CV] ....... C=10, gamma=0.001, kernel=rbf, score=0.845, total=   0.0s\n",
      "[CV] C=10, gamma=0.001, kernel=rbf ...................................\n",
      "[CV] ....... C=10, gamma=0.001, kernel=rbf, score=0.841, total=   0.0s\n",
      "[CV] C=10, gamma=0.0001, kernel=rbf ..................................\n",
      "[CV] ...... C=10, gamma=0.0001, kernel=rbf, score=0.839, total=   0.0s\n",
      "[CV] C=10, gamma=0.0001, kernel=rbf ..................................\n",
      "[CV] ...... C=10, gamma=0.0001, kernel=rbf, score=0.839, total=   0.0s\n",
      "[CV] C=10, gamma=0.0001, kernel=rbf ..................................\n",
      "[CV] ...... C=10, gamma=0.0001, kernel=rbf, score=0.839, total=   0.0s\n",
      "[CV] C=100, gamma=1, kernel=rbf ......................................\n",
      "[CV] .......... C=100, gamma=1, kernel=rbf, score=0.839, total=   0.1s\n",
      "[CV] C=100, gamma=1, kernel=rbf ......................................\n",
      "[CV] .......... C=100, gamma=1, kernel=rbf, score=0.839, total=   0.2s\n",
      "[CV] C=100, gamma=1, kernel=rbf ......................................\n",
      "[CV] .......... C=100, gamma=1, kernel=rbf, score=0.839, total=   0.1s\n",
      "[CV] C=100, gamma=0.1, kernel=rbf ....................................\n",
      "[CV] ........ C=100, gamma=0.1, kernel=rbf, score=0.843, total=   0.1s\n",
      "[CV] C=100, gamma=0.1, kernel=rbf ....................................\n",
      "[CV] ........ C=100, gamma=0.1, kernel=rbf, score=0.843, total=   0.1s\n",
      "[CV] C=100, gamma=0.1, kernel=rbf ....................................\n",
      "[CV] ........ C=100, gamma=0.1, kernel=rbf, score=0.849, total=   0.1s\n",
      "[CV] C=100, gamma=0.01, kernel=rbf ...................................\n",
      "[CV] ....... C=100, gamma=0.01, kernel=rbf, score=0.833, total=   0.1s\n",
      "[CV] C=100, gamma=0.01, kernel=rbf ...................................\n",
      "[CV] ....... C=100, gamma=0.01, kernel=rbf, score=0.808, total=   0.1s\n",
      "[CV] C=100, gamma=0.01, kernel=rbf ...................................\n",
      "[CV] ....... C=100, gamma=0.01, kernel=rbf, score=0.808, total=   0.1s\n",
      "[CV] C=100, gamma=0.001, kernel=rbf ..................................\n",
      "[CV] ...... C=100, gamma=0.001, kernel=rbf, score=0.869, total=   0.1s\n",
      "[CV] C=100, gamma=0.001, kernel=rbf ..................................\n",
      "[CV] ...... C=100, gamma=0.001, kernel=rbf, score=0.867, total=   0.0s\n",
      "[CV] C=100, gamma=0.001, kernel=rbf ..................................\n",
      "[CV] ...... C=100, gamma=0.001, kernel=rbf, score=0.890, total=   0.0s\n",
      "[CV] C=100, gamma=0.0001, kernel=rbf .................................\n",
      "[CV] ..... C=100, gamma=0.0001, kernel=rbf, score=0.839, total=   0.0s\n",
      "[CV] C=100, gamma=0.0001, kernel=rbf .................................\n",
      "[CV] ..... C=100, gamma=0.0001, kernel=rbf, score=0.841, total=   0.0s\n",
      "[CV] C=100, gamma=0.0001, kernel=rbf .................................\n",
      "[CV] ..... C=100, gamma=0.0001, kernel=rbf, score=0.839, total=   0.0s\n",
      "[CV] C=1000, gamma=1, kernel=rbf .....................................\n",
      "[CV] ......... C=1000, gamma=1, kernel=rbf, score=0.839, total=   0.1s\n",
      "[CV] C=1000, gamma=1, kernel=rbf .....................................\n",
      "[CV] ......... C=1000, gamma=1, kernel=rbf, score=0.839, total=   0.1s\n",
      "[CV] C=1000, gamma=1, kernel=rbf .....................................\n",
      "[CV] ......... C=1000, gamma=1, kernel=rbf, score=0.839, total=   0.2s\n",
      "[CV] C=1000, gamma=0.1, kernel=rbf ...................................\n",
      "[CV] ....... C=1000, gamma=0.1, kernel=rbf, score=0.843, total=   0.1s\n",
      "[CV] C=1000, gamma=0.1, kernel=rbf ...................................\n",
      "[CV] ....... C=1000, gamma=0.1, kernel=rbf, score=0.843, total=   0.1s\n",
      "[CV] C=1000, gamma=0.1, kernel=rbf ...................................\n",
      "[CV] ....... C=1000, gamma=0.1, kernel=rbf, score=0.849, total=   0.1s\n",
      "[CV] C=1000, gamma=0.01, kernel=rbf ..................................\n",
      "[CV] ...... C=1000, gamma=0.01, kernel=rbf, score=0.814, total=   0.1s\n",
      "[CV] C=1000, gamma=0.01, kernel=rbf ..................................\n",
      "[CV] ...... C=1000, gamma=0.01, kernel=rbf, score=0.804, total=   0.1s\n",
      "[CV] C=1000, gamma=0.01, kernel=rbf ..................................\n",
      "[CV] ...... C=1000, gamma=0.01, kernel=rbf, score=0.773, total=   0.1s\n",
      "[CV] C=1000, gamma=0.001, kernel=rbf .................................\n",
      "[CV] ..... C=1000, gamma=0.001, kernel=rbf, score=0.853, total=   0.1s\n",
      "[CV] C=1000, gamma=0.001, kernel=rbf .................................\n",
      "[CV] ..... C=1000, gamma=0.001, kernel=rbf, score=0.837, total=   0.1s\n",
      "[CV] C=1000, gamma=0.001, kernel=rbf .................................\n",
      "[CV] ..... C=1000, gamma=0.001, kernel=rbf, score=0.865, total=   0.1s\n",
      "[CV] C=1000, gamma=0.0001, kernel=rbf ................................\n",
      "[CV] .... C=1000, gamma=0.0001, kernel=rbf, score=0.865, total=   0.1s\n",
      "[CV] C=1000, gamma=0.0001, kernel=rbf ................................\n",
      "[CV] .... C=1000, gamma=0.0001, kernel=rbf, score=0.863, total=   0.1s\n",
      "[CV] C=1000, gamma=0.0001, kernel=rbf ................................\n",
      "[CV] .... C=1000, gamma=0.0001, kernel=rbf, score=0.867, total=   0.1s\n",
      "              precision    recall  f1-score   support\n",
      "\n",
      "           0       0.90      1.00      0.95       123\n",
      "           1       1.00      0.46      0.63        24\n",
      "\n",
      "    accuracy                           0.91       147\n",
      "   macro avg       0.95      0.73      0.79       147\n",
      "weighted avg       0.92      0.91      0.90       147\n",
      "\n"
     ]
    },
    {
     "name": "stderr",
     "output_type": "stream",
     "text": [
      "[Parallel(n_jobs=1)]: Done  75 out of  75 | elapsed:    6.3s finished\n"
     ]
    }
   ],
   "source": [
    "# Hyperparameter tuning\n",
    "# defining parameter range \n",
    "param_grid = {'C': [0.1, 1, 10, 100, 1000],  \n",
    "              'gamma': [1, 0.1, 0.01, 0.001, 0.0001], \n",
    "              'kernel': ['rbf']}  \n",
    "  \n",
    "grid = GridSearchCV(SVC(), param_grid, refit = True, verbose = 3) \n",
    "\n",
    "# fitting the model for grid search \n",
    "grid.fit(X_train, y_train) \n",
    "\n",
    "grid_predictions = grid.predict(X_test) \n",
    "  \n",
    "# print classification report \n",
    "print(classification_report(y_test, grid_predictions)) "
   ]
  },
  {
   "cell_type": "code",
   "execution_count": null,
   "metadata": {
    "colab": {},
    "colab_type": "code",
    "id": "JHcUOwmX01rB"
   },
   "outputs": [],
   "source": []
  },
  {
   "cell_type": "code",
   "execution_count": null,
   "metadata": {
    "colab": {
     "base_uri": "https://localhost:8080/",
     "height": 322
    },
    "colab_type": "code",
    "id": "fd-9CJ1sTQWi",
    "outputId": "18a389d2-f738-4ca7-cb83-aee67d1d186e"
   },
   "outputs": [
    {
     "name": "stdout",
     "output_type": "stream",
     "text": [
      "True         0   1\n",
      "Predicted         \n",
      "0          121  14\n",
      "1            2  10\n",
      "              precision    recall  f1-score   support\n",
      "\n",
      "           0       0.90      0.98      0.94       123\n",
      "           1       0.83      0.42      0.56        24\n",
      "\n",
      "    accuracy                           0.89       147\n",
      "   macro avg       0.86      0.70      0.75       147\n",
      "weighted avg       0.89      0.89      0.88       147\n",
      "\n",
      "0.891156462585034\n",
      "Duration: --- 0.00022302071253458658 Minutes ---\n"
     ]
    },
    {
     "name": "stderr",
     "output_type": "stream",
     "text": [
      "/usr/local/lib/python3.6/dist-packages/sklearn/linear_model/logistic.py:432: FutureWarning: Default solver will be changed to 'lbfgs' in 0.22. Specify a solver to silence this warning.\n",
      "  FutureWarning)\n"
     ]
    }
   ],
   "source": [
    "# Model 5: Logistic Regression\n",
    "\n",
    "logreg = LogisticRegression(random_state = 52, C = 10)\n",
    "logreg.fit(X_train, y_train)\n",
    "start_time = time.time()\n",
    "\n",
    "model = logreg\n",
    "pred=model.predict(X_test)\n",
    "cm_df = pd.DataFrame(confusion_matrix(y_test, pred).T, index=model.classes_,\n",
    "                     columns=model.classes_)\n",
    "cm_df.index.name = 'Predicted'\n",
    "cm_df.columns.name = 'True'\n",
    "print(cm_df)\n",
    "print(classification_report(y_test, pred))\n",
    "print(model.score(X_test,y_test))\n",
    "\n",
    "print(\"Duration: --- %s Minutes ---\" % ((time.time() - start_time)/60))"
   ]
  },
  {
   "cell_type": "code",
   "execution_count": null,
   "metadata": {
    "colab": {
     "base_uri": "https://localhost:8080/",
     "height": 1000
    },
    "colab_type": "code",
    "id": "f5PZo_SxO_IQ",
    "outputId": "79b30911-a0b8-47df-e0d6-1dd0795a8458"
   },
   "outputs": [
    {
     "name": "stderr",
     "output_type": "stream",
     "text": [
      "/usr/local/lib/python3.6/dist-packages/sklearn/linear_model/logistic.py:432: FutureWarning: Default solver will be changed to 'lbfgs' in 0.22. Specify a solver to silence this warning.\n",
      "  FutureWarning)\n",
      "/usr/local/lib/python3.6/dist-packages/sklearn/linear_model/logistic.py:432: FutureWarning: Default solver will be changed to 'lbfgs' in 0.22. Specify a solver to silence this warning.\n",
      "  FutureWarning)\n",
      "/usr/local/lib/python3.6/dist-packages/sklearn/linear_model/logistic.py:432: FutureWarning: Default solver will be changed to 'lbfgs' in 0.22. Specify a solver to silence this warning.\n",
      "  FutureWarning)\n",
      "/usr/local/lib/python3.6/dist-packages/sklearn/linear_model/logistic.py:432: FutureWarning: Default solver will be changed to 'lbfgs' in 0.22. Specify a solver to silence this warning.\n",
      "  FutureWarning)\n",
      "/usr/local/lib/python3.6/dist-packages/sklearn/linear_model/logistic.py:432: FutureWarning: Default solver will be changed to 'lbfgs' in 0.22. Specify a solver to silence this warning.\n",
      "  FutureWarning)\n",
      "/usr/local/lib/python3.6/dist-packages/sklearn/linear_model/logistic.py:432: FutureWarning: Default solver will be changed to 'lbfgs' in 0.22. Specify a solver to silence this warning.\n",
      "  FutureWarning)\n",
      "/usr/local/lib/python3.6/dist-packages/sklearn/linear_model/logistic.py:432: FutureWarning: Default solver will be changed to 'lbfgs' in 0.22. Specify a solver to silence this warning.\n",
      "  FutureWarning)\n",
      "/usr/local/lib/python3.6/dist-packages/sklearn/linear_model/logistic.py:432: FutureWarning: Default solver will be changed to 'lbfgs' in 0.22. Specify a solver to silence this warning.\n",
      "  FutureWarning)\n",
      "/usr/local/lib/python3.6/dist-packages/sklearn/linear_model/logistic.py:432: FutureWarning: Default solver will be changed to 'lbfgs' in 0.22. Specify a solver to silence this warning.\n",
      "  FutureWarning)\n",
      "/usr/local/lib/python3.6/dist-packages/sklearn/linear_model/logistic.py:432: FutureWarning: Default solver will be changed to 'lbfgs' in 0.22. Specify a solver to silence this warning.\n",
      "  FutureWarning)\n",
      "/usr/local/lib/python3.6/dist-packages/sklearn/linear_model/logistic.py:432: FutureWarning: Default solver will be changed to 'lbfgs' in 0.22. Specify a solver to silence this warning.\n",
      "  FutureWarning)\n",
      "/usr/local/lib/python3.6/dist-packages/sklearn/linear_model/logistic.py:432: FutureWarning: Default solver will be changed to 'lbfgs' in 0.22. Specify a solver to silence this warning.\n",
      "  FutureWarning)\n",
      "/usr/local/lib/python3.6/dist-packages/sklearn/linear_model/logistic.py:432: FutureWarning: Default solver will be changed to 'lbfgs' in 0.22. Specify a solver to silence this warning.\n",
      "  FutureWarning)\n",
      "/usr/local/lib/python3.6/dist-packages/sklearn/linear_model/logistic.py:432: FutureWarning: Default solver will be changed to 'lbfgs' in 0.22. Specify a solver to silence this warning.\n",
      "  FutureWarning)\n",
      "/usr/local/lib/python3.6/dist-packages/sklearn/linear_model/logistic.py:432: FutureWarning: Default solver will be changed to 'lbfgs' in 0.22. Specify a solver to silence this warning.\n",
      "  FutureWarning)\n",
      "/usr/local/lib/python3.6/dist-packages/sklearn/linear_model/logistic.py:432: FutureWarning: Default solver will be changed to 'lbfgs' in 0.22. Specify a solver to silence this warning.\n",
      "  FutureWarning)\n",
      "/usr/local/lib/python3.6/dist-packages/sklearn/linear_model/logistic.py:432: FutureWarning: Default solver will be changed to 'lbfgs' in 0.22. Specify a solver to silence this warning.\n",
      "  FutureWarning)\n",
      "/usr/local/lib/python3.6/dist-packages/sklearn/linear_model/logistic.py:432: FutureWarning: Default solver will be changed to 'lbfgs' in 0.22. Specify a solver to silence this warning.\n",
      "  FutureWarning)\n",
      "/usr/local/lib/python3.6/dist-packages/sklearn/linear_model/logistic.py:432: FutureWarning: Default solver will be changed to 'lbfgs' in 0.22. Specify a solver to silence this warning.\n",
      "  FutureWarning)\n",
      "/usr/local/lib/python3.6/dist-packages/sklearn/linear_model/logistic.py:432: FutureWarning: Default solver will be changed to 'lbfgs' in 0.22. Specify a solver to silence this warning.\n",
      "  FutureWarning)\n",
      "/usr/local/lib/python3.6/dist-packages/sklearn/linear_model/logistic.py:432: FutureWarning: Default solver will be changed to 'lbfgs' in 0.22. Specify a solver to silence this warning.\n",
      "  FutureWarning)\n",
      "/usr/local/lib/python3.6/dist-packages/sklearn/linear_model/logistic.py:432: FutureWarning: Default solver will be changed to 'lbfgs' in 0.22. Specify a solver to silence this warning.\n",
      "  FutureWarning)\n",
      "/usr/local/lib/python3.6/dist-packages/sklearn/linear_model/logistic.py:432: FutureWarning: Default solver will be changed to 'lbfgs' in 0.22. Specify a solver to silence this warning.\n",
      "  FutureWarning)\n",
      "/usr/local/lib/python3.6/dist-packages/sklearn/linear_model/logistic.py:432: FutureWarning: Default solver will be changed to 'lbfgs' in 0.22. Specify a solver to silence this warning.\n",
      "  FutureWarning)\n",
      "/usr/local/lib/python3.6/dist-packages/sklearn/linear_model/logistic.py:432: FutureWarning: Default solver will be changed to 'lbfgs' in 0.22. Specify a solver to silence this warning.\n",
      "  FutureWarning)\n",
      "/usr/local/lib/python3.6/dist-packages/sklearn/linear_model/logistic.py:432: FutureWarning: Default solver will be changed to 'lbfgs' in 0.22. Specify a solver to silence this warning.\n",
      "  FutureWarning)\n",
      "/usr/local/lib/python3.6/dist-packages/sklearn/linear_model/logistic.py:432: FutureWarning: Default solver will be changed to 'lbfgs' in 0.22. Specify a solver to silence this warning.\n",
      "  FutureWarning)\n",
      "/usr/local/lib/python3.6/dist-packages/sklearn/linear_model/logistic.py:432: FutureWarning: Default solver will be changed to 'lbfgs' in 0.22. Specify a solver to silence this warning.\n",
      "  FutureWarning)\n",
      "/usr/local/lib/python3.6/dist-packages/sklearn/linear_model/logistic.py:432: FutureWarning: Default solver will be changed to 'lbfgs' in 0.22. Specify a solver to silence this warning.\n",
      "  FutureWarning)\n",
      "/usr/local/lib/python3.6/dist-packages/sklearn/linear_model/logistic.py:432: FutureWarning: Default solver will be changed to 'lbfgs' in 0.22. Specify a solver to silence this warning.\n",
      "  FutureWarning)\n",
      "/usr/local/lib/python3.6/dist-packages/sklearn/linear_model/logistic.py:432: FutureWarning: Default solver will be changed to 'lbfgs' in 0.22. Specify a solver to silence this warning.\n",
      "  FutureWarning)\n",
      "/usr/local/lib/python3.6/dist-packages/sklearn/linear_model/logistic.py:432: FutureWarning: Default solver will be changed to 'lbfgs' in 0.22. Specify a solver to silence this warning.\n",
      "  FutureWarning)\n",
      "/usr/local/lib/python3.6/dist-packages/sklearn/linear_model/logistic.py:432: FutureWarning: Default solver will be changed to 'lbfgs' in 0.22. Specify a solver to silence this warning.\n",
      "  FutureWarning)\n",
      "/usr/local/lib/python3.6/dist-packages/sklearn/linear_model/logistic.py:432: FutureWarning: Default solver will be changed to 'lbfgs' in 0.22. Specify a solver to silence this warning.\n",
      "  FutureWarning)\n",
      "/usr/local/lib/python3.6/dist-packages/sklearn/linear_model/logistic.py:432: FutureWarning: Default solver will be changed to 'lbfgs' in 0.22. Specify a solver to silence this warning.\n",
      "  FutureWarning)\n",
      "/usr/local/lib/python3.6/dist-packages/sklearn/linear_model/logistic.py:432: FutureWarning: Default solver will be changed to 'lbfgs' in 0.22. Specify a solver to silence this warning.\n",
      "  FutureWarning)\n",
      "/usr/local/lib/python3.6/dist-packages/sklearn/linear_model/logistic.py:432: FutureWarning: Default solver will be changed to 'lbfgs' in 0.22. Specify a solver to silence this warning.\n",
      "  FutureWarning)\n",
      "/usr/local/lib/python3.6/dist-packages/sklearn/linear_model/logistic.py:432: FutureWarning: Default solver will be changed to 'lbfgs' in 0.22. Specify a solver to silence this warning.\n",
      "  FutureWarning)\n",
      "/usr/local/lib/python3.6/dist-packages/sklearn/linear_model/logistic.py:432: FutureWarning: Default solver will be changed to 'lbfgs' in 0.22. Specify a solver to silence this warning.\n",
      "  FutureWarning)\n",
      "/usr/local/lib/python3.6/dist-packages/sklearn/linear_model/logistic.py:432: FutureWarning: Default solver will be changed to 'lbfgs' in 0.22. Specify a solver to silence this warning.\n",
      "  FutureWarning)\n",
      "/usr/local/lib/python3.6/dist-packages/sklearn/linear_model/logistic.py:432: FutureWarning: Default solver will be changed to 'lbfgs' in 0.22. Specify a solver to silence this warning.\n",
      "  FutureWarning)\n",
      "/usr/local/lib/python3.6/dist-packages/sklearn/linear_model/logistic.py:432: FutureWarning: Default solver will be changed to 'lbfgs' in 0.22. Specify a solver to silence this warning.\n",
      "  FutureWarning)\n",
      "/usr/local/lib/python3.6/dist-packages/sklearn/linear_model/logistic.py:432: FutureWarning: Default solver will be changed to 'lbfgs' in 0.22. Specify a solver to silence this warning.\n",
      "  FutureWarning)\n",
      "/usr/local/lib/python3.6/dist-packages/sklearn/linear_model/logistic.py:432: FutureWarning: Default solver will be changed to 'lbfgs' in 0.22. Specify a solver to silence this warning.\n",
      "  FutureWarning)\n",
      "/usr/local/lib/python3.6/dist-packages/sklearn/linear_model/logistic.py:432: FutureWarning: Default solver will be changed to 'lbfgs' in 0.22. Specify a solver to silence this warning.\n",
      "  FutureWarning)\n",
      "/usr/local/lib/python3.6/dist-packages/sklearn/linear_model/logistic.py:432: FutureWarning: Default solver will be changed to 'lbfgs' in 0.22. Specify a solver to silence this warning.\n",
      "  FutureWarning)\n",
      "/usr/local/lib/python3.6/dist-packages/sklearn/linear_model/logistic.py:432: FutureWarning: Default solver will be changed to 'lbfgs' in 0.22. Specify a solver to silence this warning.\n",
      "  FutureWarning)\n",
      "/usr/local/lib/python3.6/dist-packages/sklearn/linear_model/logistic.py:432: FutureWarning: Default solver will be changed to 'lbfgs' in 0.22. Specify a solver to silence this warning.\n",
      "  FutureWarning)\n",
      "/usr/local/lib/python3.6/dist-packages/sklearn/linear_model/logistic.py:432: FutureWarning: Default solver will be changed to 'lbfgs' in 0.22. Specify a solver to silence this warning.\n",
      "  FutureWarning)\n",
      "/usr/local/lib/python3.6/dist-packages/sklearn/linear_model/logistic.py:432: FutureWarning: Default solver will be changed to 'lbfgs' in 0.22. Specify a solver to silence this warning.\n",
      "  FutureWarning)\n",
      "/usr/local/lib/python3.6/dist-packages/sklearn/linear_model/logistic.py:432: FutureWarning: Default solver will be changed to 'lbfgs' in 0.22. Specify a solver to silence this warning.\n",
      "  FutureWarning)\n",
      "/usr/local/lib/python3.6/dist-packages/sklearn/linear_model/logistic.py:432: FutureWarning: Default solver will be changed to 'lbfgs' in 0.22. Specify a solver to silence this warning.\n",
      "  FutureWarning)\n",
      "/usr/local/lib/python3.6/dist-packages/sklearn/linear_model/logistic.py:432: FutureWarning: Default solver will be changed to 'lbfgs' in 0.22. Specify a solver to silence this warning.\n",
      "  FutureWarning)\n",
      "/usr/local/lib/python3.6/dist-packages/sklearn/linear_model/logistic.py:432: FutureWarning: Default solver will be changed to 'lbfgs' in 0.22. Specify a solver to silence this warning.\n",
      "  FutureWarning)\n",
      "/usr/local/lib/python3.6/dist-packages/sklearn/linear_model/logistic.py:432: FutureWarning: Default solver will be changed to 'lbfgs' in 0.22. Specify a solver to silence this warning.\n",
      "  FutureWarning)\n",
      "/usr/local/lib/python3.6/dist-packages/sklearn/linear_model/logistic.py:432: FutureWarning: Default solver will be changed to 'lbfgs' in 0.22. Specify a solver to silence this warning.\n",
      "  FutureWarning)\n",
      "/usr/local/lib/python3.6/dist-packages/sklearn/linear_model/logistic.py:432: FutureWarning: Default solver will be changed to 'lbfgs' in 0.22. Specify a solver to silence this warning.\n",
      "  FutureWarning)\n",
      "/usr/local/lib/python3.6/dist-packages/sklearn/linear_model/logistic.py:432: FutureWarning: Default solver will be changed to 'lbfgs' in 0.22. Specify a solver to silence this warning.\n",
      "  FutureWarning)\n",
      "/usr/local/lib/python3.6/dist-packages/sklearn/linear_model/logistic.py:432: FutureWarning: Default solver will be changed to 'lbfgs' in 0.22. Specify a solver to silence this warning.\n",
      "  FutureWarning)\n",
      "/usr/local/lib/python3.6/dist-packages/sklearn/linear_model/logistic.py:432: FutureWarning: Default solver will be changed to 'lbfgs' in 0.22. Specify a solver to silence this warning.\n",
      "  FutureWarning)\n",
      "/usr/local/lib/python3.6/dist-packages/sklearn/linear_model/logistic.py:432: FutureWarning: Default solver will be changed to 'lbfgs' in 0.22. Specify a solver to silence this warning.\n",
      "  FutureWarning)\n",
      "/usr/local/lib/python3.6/dist-packages/sklearn/linear_model/logistic.py:432: FutureWarning: Default solver will be changed to 'lbfgs' in 0.22. Specify a solver to silence this warning.\n",
      "  FutureWarning)\n",
      "/usr/local/lib/python3.6/dist-packages/sklearn/linear_model/logistic.py:432: FutureWarning: Default solver will be changed to 'lbfgs' in 0.22. Specify a solver to silence this warning.\n",
      "  FutureWarning)\n",
      "/usr/local/lib/python3.6/dist-packages/sklearn/linear_model/logistic.py:432: FutureWarning: Default solver will be changed to 'lbfgs' in 0.22. Specify a solver to silence this warning.\n",
      "  FutureWarning)\n",
      "/usr/local/lib/python3.6/dist-packages/sklearn/linear_model/logistic.py:432: FutureWarning: Default solver will be changed to 'lbfgs' in 0.22. Specify a solver to silence this warning.\n",
      "  FutureWarning)\n",
      "/usr/local/lib/python3.6/dist-packages/sklearn/linear_model/logistic.py:432: FutureWarning: Default solver will be changed to 'lbfgs' in 0.22. Specify a solver to silence this warning.\n",
      "  FutureWarning)\n",
      "/usr/local/lib/python3.6/dist-packages/sklearn/linear_model/logistic.py:432: FutureWarning: Default solver will be changed to 'lbfgs' in 0.22. Specify a solver to silence this warning.\n",
      "  FutureWarning)\n",
      "/usr/local/lib/python3.6/dist-packages/sklearn/linear_model/logistic.py:432: FutureWarning: Default solver will be changed to 'lbfgs' in 0.22. Specify a solver to silence this warning.\n",
      "  FutureWarning)\n",
      "/usr/local/lib/python3.6/dist-packages/sklearn/linear_model/logistic.py:432: FutureWarning: Default solver will be changed to 'lbfgs' in 0.22. Specify a solver to silence this warning.\n",
      "  FutureWarning)\n",
      "/usr/local/lib/python3.6/dist-packages/sklearn/linear_model/logistic.py:432: FutureWarning: Default solver will be changed to 'lbfgs' in 0.22. Specify a solver to silence this warning.\n",
      "  FutureWarning)\n",
      "/usr/local/lib/python3.6/dist-packages/sklearn/linear_model/logistic.py:432: FutureWarning: Default solver will be changed to 'lbfgs' in 0.22. Specify a solver to silence this warning.\n",
      "  FutureWarning)\n",
      "/usr/local/lib/python3.6/dist-packages/sklearn/linear_model/logistic.py:432: FutureWarning: Default solver will be changed to 'lbfgs' in 0.22. Specify a solver to silence this warning.\n",
      "  FutureWarning)\n",
      "/usr/local/lib/python3.6/dist-packages/sklearn/linear_model/logistic.py:432: FutureWarning: Default solver will be changed to 'lbfgs' in 0.22. Specify a solver to silence this warning.\n",
      "  FutureWarning)\n",
      "/usr/local/lib/python3.6/dist-packages/sklearn/linear_model/logistic.py:432: FutureWarning: Default solver will be changed to 'lbfgs' in 0.22. Specify a solver to silence this warning.\n",
      "  FutureWarning)\n",
      "/usr/local/lib/python3.6/dist-packages/sklearn/linear_model/logistic.py:432: FutureWarning: Default solver will be changed to 'lbfgs' in 0.22. Specify a solver to silence this warning.\n",
      "  FutureWarning)\n",
      "/usr/local/lib/python3.6/dist-packages/sklearn/linear_model/logistic.py:432: FutureWarning: Default solver will be changed to 'lbfgs' in 0.22. Specify a solver to silence this warning.\n",
      "  FutureWarning)\n",
      "/usr/local/lib/python3.6/dist-packages/sklearn/linear_model/logistic.py:432: FutureWarning: Default solver will be changed to 'lbfgs' in 0.22. Specify a solver to silence this warning.\n",
      "  FutureWarning)\n",
      "/usr/local/lib/python3.6/dist-packages/sklearn/linear_model/logistic.py:432: FutureWarning: Default solver will be changed to 'lbfgs' in 0.22. Specify a solver to silence this warning.\n",
      "  FutureWarning)\n",
      "/usr/local/lib/python3.6/dist-packages/sklearn/linear_model/logistic.py:432: FutureWarning: Default solver will be changed to 'lbfgs' in 0.22. Specify a solver to silence this warning.\n",
      "  FutureWarning)\n",
      "/usr/local/lib/python3.6/dist-packages/sklearn/linear_model/logistic.py:432: FutureWarning: Default solver will be changed to 'lbfgs' in 0.22. Specify a solver to silence this warning.\n",
      "  FutureWarning)\n",
      "/usr/local/lib/python3.6/dist-packages/sklearn/linear_model/logistic.py:432: FutureWarning: Default solver will be changed to 'lbfgs' in 0.22. Specify a solver to silence this warning.\n",
      "  FutureWarning)\n",
      "/usr/local/lib/python3.6/dist-packages/sklearn/linear_model/logistic.py:432: FutureWarning: Default solver will be changed to 'lbfgs' in 0.22. Specify a solver to silence this warning.\n",
      "  FutureWarning)\n",
      "/usr/local/lib/python3.6/dist-packages/sklearn/linear_model/logistic.py:432: FutureWarning: Default solver will be changed to 'lbfgs' in 0.22. Specify a solver to silence this warning.\n",
      "  FutureWarning)\n",
      "/usr/local/lib/python3.6/dist-packages/sklearn/linear_model/logistic.py:432: FutureWarning: Default solver will be changed to 'lbfgs' in 0.22. Specify a solver to silence this warning.\n",
      "  FutureWarning)\n",
      "/usr/local/lib/python3.6/dist-packages/sklearn/linear_model/logistic.py:432: FutureWarning: Default solver will be changed to 'lbfgs' in 0.22. Specify a solver to silence this warning.\n",
      "  FutureWarning)\n",
      "/usr/local/lib/python3.6/dist-packages/sklearn/linear_model/logistic.py:432: FutureWarning: Default solver will be changed to 'lbfgs' in 0.22. Specify a solver to silence this warning.\n",
      "  FutureWarning)\n",
      "/usr/local/lib/python3.6/dist-packages/sklearn/linear_model/logistic.py:432: FutureWarning: Default solver will be changed to 'lbfgs' in 0.22. Specify a solver to silence this warning.\n",
      "  FutureWarning)\n",
      "/usr/local/lib/python3.6/dist-packages/sklearn/linear_model/logistic.py:432: FutureWarning: Default solver will be changed to 'lbfgs' in 0.22. Specify a solver to silence this warning.\n",
      "  FutureWarning)\n",
      "/usr/local/lib/python3.6/dist-packages/sklearn/linear_model/logistic.py:432: FutureWarning: Default solver will be changed to 'lbfgs' in 0.22. Specify a solver to silence this warning.\n",
      "  FutureWarning)\n",
      "/usr/local/lib/python3.6/dist-packages/sklearn/linear_model/logistic.py:432: FutureWarning: Default solver will be changed to 'lbfgs' in 0.22. Specify a solver to silence this warning.\n",
      "  FutureWarning)\n",
      "/usr/local/lib/python3.6/dist-packages/sklearn/linear_model/logistic.py:432: FutureWarning: Default solver will be changed to 'lbfgs' in 0.22. Specify a solver to silence this warning.\n",
      "  FutureWarning)\n",
      "/usr/local/lib/python3.6/dist-packages/sklearn/linear_model/logistic.py:432: FutureWarning: Default solver will be changed to 'lbfgs' in 0.22. Specify a solver to silence this warning.\n",
      "  FutureWarning)\n",
      "/usr/local/lib/python3.6/dist-packages/sklearn/linear_model/logistic.py:432: FutureWarning: Default solver will be changed to 'lbfgs' in 0.22. Specify a solver to silence this warning.\n",
      "  FutureWarning)\n",
      "/usr/local/lib/python3.6/dist-packages/sklearn/linear_model/logistic.py:432: FutureWarning: Default solver will be changed to 'lbfgs' in 0.22. Specify a solver to silence this warning.\n",
      "  FutureWarning)\n"
     ]
    },
    {
     "name": "stdout",
     "output_type": "stream",
     "text": [
      "Best Penalty: l2\n",
      "Best C: 21.544346900318832\n",
      "0.8639455782312925\n"
     ]
    },
    {
     "name": "stderr",
     "output_type": "stream",
     "text": [
      "/usr/local/lib/python3.6/dist-packages/sklearn/linear_model/logistic.py:432: FutureWarning: Default solver will be changed to 'lbfgs' in 0.22. Specify a solver to silence this warning.\n",
      "  FutureWarning)\n",
      "/usr/local/lib/python3.6/dist-packages/sklearn/linear_model/logistic.py:432: FutureWarning: Default solver will be changed to 'lbfgs' in 0.22. Specify a solver to silence this warning.\n",
      "  FutureWarning)\n",
      "/usr/local/lib/python3.6/dist-packages/sklearn/linear_model/logistic.py:432: FutureWarning: Default solver will be changed to 'lbfgs' in 0.22. Specify a solver to silence this warning.\n",
      "  FutureWarning)\n",
      "/usr/local/lib/python3.6/dist-packages/sklearn/linear_model/logistic.py:432: FutureWarning: Default solver will be changed to 'lbfgs' in 0.22. Specify a solver to silence this warning.\n",
      "  FutureWarning)\n",
      "/usr/local/lib/python3.6/dist-packages/sklearn/linear_model/logistic.py:432: FutureWarning: Default solver will be changed to 'lbfgs' in 0.22. Specify a solver to silence this warning.\n",
      "  FutureWarning)\n",
      "/usr/local/lib/python3.6/dist-packages/sklearn/linear_model/logistic.py:432: FutureWarning: Default solver will be changed to 'lbfgs' in 0.22. Specify a solver to silence this warning.\n",
      "  FutureWarning)\n",
      "/usr/local/lib/python3.6/dist-packages/sklearn/linear_model/logistic.py:432: FutureWarning: Default solver will be changed to 'lbfgs' in 0.22. Specify a solver to silence this warning.\n",
      "  FutureWarning)\n"
     ]
    }
   ],
   "source": [
    "import numpy as np\n",
    "\n",
    "# Hyper parameter tuning\n",
    "penalty = ['l1', 'l2']\n",
    "\n",
    "# Create regularization hyperparameter space\n",
    "C = np.logspace(0, 4, 10)\n",
    "\n",
    "# Create hyperparameter options\n",
    "hyperparameters = dict(C=C, penalty=penalty)\n",
    "\n",
    "clf = GridSearchCV(logreg, hyperparameters, cv=5, verbose=0)\n",
    "\n",
    "# Fit data with best parameters\n",
    "best_model = clf.fit(X_train, y_train)\n",
    "print('Best Penalty:', best_model.best_estimator_.get_params()['penalty'])\n",
    "print('Best C:', best_model.best_estimator_.get_params()['C'])\n",
    "\n",
    "# Check how paramteres have improved the model\n",
    "best_model.predict(X_test)\n",
    "print(best_model.score(X_test,y_test))"
   ]
  },
  {
   "cell_type": "code",
   "execution_count": null,
   "metadata": {
    "colab": {},
    "colab_type": "code",
    "id": "Tp7bnh81REXY"
   },
   "outputs": [],
   "source": []
  },
  {
   "cell_type": "code",
   "execution_count": null,
   "metadata": {
    "colab": {
     "base_uri": "https://localhost:8080/",
     "height": 235
    },
    "colab_type": "code",
    "id": "PxVBOdvZ2Hkz",
    "outputId": "2b6caf02-995a-40de-b41f-96d226c899fb"
   },
   "outputs": [
    {
     "name": "stdout",
     "output_type": "stream",
     "text": [
      "[[100  23]\n",
      " [  7  17]]\n",
      "              precision    recall  f1-score   support\n",
      "\n",
      "           0       0.93      0.81      0.87       123\n",
      "           1       0.42      0.71      0.53        24\n",
      "\n",
      "    accuracy                           0.80       147\n",
      "   macro avg       0.68      0.76      0.70       147\n",
      "weighted avg       0.85      0.80      0.81       147\n",
      "\n",
      "Accuracy: 0.7959183673469388\n",
      "Duration: --- 0.0003803571065266927 Minutes ---\n"
     ]
    }
   ],
   "source": [
    "#Model-6 :Gaussian Naive Bayes method\n",
    "from sklearn.naive_bayes import GaussianNB\n",
    "gnb = GaussianNB()\n",
    "start_time = time.time()\n",
    "gnb.fit(X_train, y_train)\n",
    "y_pred = gnb.predict(X_test)\n",
    "print(confusion_matrix(y_test, y_pred))\n",
    "print(classification_report(y_test, y_pred))\n",
    "from sklearn import metrics\n",
    "\n",
    "# Model Accuracy, how often is the classifier correct?\n",
    "print(\"Accuracy:\",metrics.accuracy_score(y_test, y_pred))\n",
    "print(\"Duration: --- %s Minutes ---\" % ((time.time() - start_time)/60))"
   ]
  },
  {
   "cell_type": "code",
   "execution_count": null,
   "metadata": {
    "colab": {
     "base_uri": "https://localhost:8080/",
     "height": 322
    },
    "colab_type": "code",
    "id": "QOz4rYYw2QZz",
    "outputId": "500c0f20-224f-4ebb-b0b9-6afb1340e37b"
   },
   "outputs": [
    {
     "name": "stderr",
     "output_type": "stream",
     "text": [
      "/usr/local/lib/python3.6/dist-packages/sklearn/model_selection/_split.py:1978: FutureWarning: The default value of cv will change from 3 to 5 in version 0.22. Specify it explicitly to silence this warning.\n",
      "  warnings.warn(CV_WARNING, FutureWarning)\n"
     ]
    },
    {
     "name": "stdout",
     "output_type": "stream",
     "text": [
      "Best Hyper Parameters:\n",
      " {'var_smoothing': 0.001}\n",
      "Accuracy: 0.7551020408163265\n",
      "Confusion Metrix:\n",
      " [[98 11]\n",
      " [25 13]]\n",
      "              precision    recall  f1-score   support\n",
      "\n",
      "           0       0.90      0.80      0.84       123\n",
      "           1       0.34      0.54      0.42        24\n",
      "\n",
      "    accuracy                           0.76       147\n",
      "   macro avg       0.62      0.67      0.63       147\n",
      "weighted avg       0.81      0.76      0.78       147\n",
      "\n"
     ]
    }
   ],
   "source": [
    "#with hyperparameter for Gaussian Naive Bayes\n",
    "from sklearn.naive_bayes import GaussianNB\n",
    "from sklearn.model_selection import train_test_split, GridSearchCV\n",
    "\n",
    "\n",
    "model=GaussianNB()\n",
    "#hyper parameters set\n",
    "params = {\n",
    "    'var_smoothing': [0.5e-9, 1e-9, 5e-9, 1e-8, 1e-7, 5e-7, 7e-7, 1e-6, 5e-6, 1e-5, 1e-4, 1e-3],\n",
    "}\n",
    "#Making models with hyper parameters sets\n",
    "model1 = GridSearchCV(model, param_grid=params)\n",
    "#learning\n",
    "model1.fit(X_train,y_train)\n",
    "#The best hyper parameters set\n",
    "print(\"Best Hyper Parameters:\\n\",model1.best_params_)\n",
    "#Prediction\n",
    "prediction=model1.predict(X_test)\n",
    "#importing the metrics module\n",
    "from sklearn import metrics\n",
    "#evaluation(Accuracy)\n",
    "print(\"Accuracy:\",metrics.accuracy_score(prediction,y_test))\n",
    "#evaluation(Confusion Metrix)\n",
    "print(\"Confusion Metrix:\\n\",metrics.confusion_matrix(prediction,y_test))\n",
    "print(classification_report(y_test, y_pred))"
   ]
  },
  {
   "cell_type": "code",
   "execution_count": null,
   "metadata": {
    "colab": {},
    "colab_type": "code",
    "id": "5LIFqIc22QkK"
   },
   "outputs": [],
   "source": []
  },
  {
   "cell_type": "code",
   "execution_count": null,
   "metadata": {
    "colab": {},
    "colab_type": "code",
    "id": "wq_xz_HM2UwE"
   },
   "outputs": [],
   "source": []
  },
  {
   "cell_type": "code",
   "execution_count": null,
   "metadata": {
    "colab": {
     "base_uri": "https://localhost:8080/",
     "height": 776
    },
    "colab_type": "code",
    "id": "I9cSDroGW9E1",
    "outputId": "5bf04261-25b4-4660-b3b6-91fae6ed0261"
   },
   "outputs": [
    {
     "name": "stderr",
     "output_type": "stream",
     "text": [
      "/usr/local/lib/python3.6/dist-packages/sklearn/ensemble/forest.py:245: FutureWarning: The default value of n_estimators will change from 10 in version 0.20 to 100 in 0.22.\n",
      "  \"10 in version 0.20 to 100 in 0.22.\", FutureWarning)\n",
      "/usr/local/lib/python3.6/dist-packages/sklearn/linear_model/logistic.py:432: FutureWarning: Default solver will be changed to 'lbfgs' in 0.22. Specify a solver to silence this warning.\n",
      "  FutureWarning)\n",
      "/usr/local/lib/python3.6/dist-packages/sklearn/ensemble/forest.py:245: FutureWarning: The default value of n_estimators will change from 10 in version 0.20 to 100 in 0.22.\n",
      "  \"10 in version 0.20 to 100 in 0.22.\", FutureWarning)\n",
      "/usr/local/lib/python3.6/dist-packages/sklearn/svm/base.py:929: ConvergenceWarning: Liblinear failed to converge, increase the number of iterations.\n",
      "  \"the number of iterations.\", ConvergenceWarning)\n",
      "/usr/local/lib/python3.6/dist-packages/sklearn/linear_model/logistic.py:432: FutureWarning: Default solver will be changed to 'lbfgs' in 0.22. Specify a solver to silence this warning.\n",
      "  FutureWarning)\n",
      "/usr/local/lib/python3.6/dist-packages/sklearn/svm/base.py:929: ConvergenceWarning: Liblinear failed to converge, increase the number of iterations.\n",
      "  \"the number of iterations.\", ConvergenceWarning)\n",
      "/usr/local/lib/python3.6/dist-packages/sklearn/linear_model/logistic.py:432: FutureWarning: Default solver will be changed to 'lbfgs' in 0.22. Specify a solver to silence this warning.\n",
      "  FutureWarning)\n",
      "/usr/local/lib/python3.6/dist-packages/sklearn/svm/base.py:929: ConvergenceWarning: Liblinear failed to converge, increase the number of iterations.\n",
      "  \"the number of iterations.\", ConvergenceWarning)\n",
      "/usr/local/lib/python3.6/dist-packages/sklearn/linear_model/logistic.py:432: FutureWarning: Default solver will be changed to 'lbfgs' in 0.22. Specify a solver to silence this warning.\n",
      "  FutureWarning)\n",
      "/usr/local/lib/python3.6/dist-packages/sklearn/svm/base.py:929: ConvergenceWarning: Liblinear failed to converge, increase the number of iterations.\n",
      "  \"the number of iterations.\", ConvergenceWarning)\n",
      "/usr/local/lib/python3.6/dist-packages/sklearn/linear_model/logistic.py:432: FutureWarning: Default solver will be changed to 'lbfgs' in 0.22. Specify a solver to silence this warning.\n",
      "  FutureWarning)\n",
      "/usr/local/lib/python3.6/dist-packages/sklearn/svm/base.py:929: ConvergenceWarning: Liblinear failed to converge, increase the number of iterations.\n",
      "  \"the number of iterations.\", ConvergenceWarning)\n",
      "/usr/local/lib/python3.6/dist-packages/sklearn/linear_model/logistic.py:432: FutureWarning: Default solver will be changed to 'lbfgs' in 0.22. Specify a solver to silence this warning.\n",
      "  FutureWarning)\n",
      "/usr/local/lib/python3.6/dist-packages/sklearn/svm/base.py:929: ConvergenceWarning: Liblinear failed to converge, increase the number of iterations.\n",
      "  \"the number of iterations.\", ConvergenceWarning)\n",
      "/usr/local/lib/python3.6/dist-packages/sklearn/linear_model/logistic.py:432: FutureWarning: Default solver will be changed to 'lbfgs' in 0.22. Specify a solver to silence this warning.\n",
      "  FutureWarning)\n",
      "/usr/local/lib/python3.6/dist-packages/sklearn/svm/base.py:929: ConvergenceWarning: Liblinear failed to converge, increase the number of iterations.\n",
      "  \"the number of iterations.\", ConvergenceWarning)\n",
      "/usr/local/lib/python3.6/dist-packages/sklearn/linear_model/logistic.py:432: FutureWarning: Default solver will be changed to 'lbfgs' in 0.22. Specify a solver to silence this warning.\n",
      "  FutureWarning)\n",
      "/usr/local/lib/python3.6/dist-packages/sklearn/svm/base.py:929: ConvergenceWarning: Liblinear failed to converge, increase the number of iterations.\n",
      "  \"the number of iterations.\", ConvergenceWarning)\n",
      "/usr/local/lib/python3.6/dist-packages/sklearn/linear_model/logistic.py:432: FutureWarning: Default solver will be changed to 'lbfgs' in 0.22. Specify a solver to silence this warning.\n",
      "  FutureWarning)\n",
      "/usr/local/lib/python3.6/dist-packages/sklearn/svm/base.py:929: ConvergenceWarning: Liblinear failed to converge, increase the number of iterations.\n",
      "  \"the number of iterations.\", ConvergenceWarning)\n",
      "/usr/local/lib/python3.6/dist-packages/sklearn/linear_model/logistic.py:432: FutureWarning: Default solver will be changed to 'lbfgs' in 0.22. Specify a solver to silence this warning.\n",
      "  FutureWarning)\n",
      "/usr/local/lib/python3.6/dist-packages/sklearn/svm/base.py:929: ConvergenceWarning: Liblinear failed to converge, increase the number of iterations.\n",
      "  \"the number of iterations.\", ConvergenceWarning)\n"
     ]
    }
   ],
   "source": [
    "yes_attrition_df = df.loc[df['Attrition']== 1]\n",
    "no_attrition_df=df.loc[df['Attrition']==0]\n",
    "\n",
    "\n",
    "#Creating lists to accept accuaracy values for each of the models.\n",
    "rfa_accuracy = [None]*10\n",
    "log_accuracy = [None]*10\n",
    "svc_accuracy = [None]*10\n",
    "etc_accuracy = [None]*10\n",
    "knn_accuracy = [None]*10\n",
    "gnb_accuracy = [None]*10\n",
    "\n",
    "\n",
    "rfa = RandomForestClassifier()\n",
    "log = LogisticRegression(random_state = 52, C = 10)\n",
    "svc = LinearSVC()\n",
    "etc = ExtraTreesClassifier()\n",
    "knn = KNeighborsClassifier(n_neighbors=2)\n",
    "gnb = GaussianNB()\n",
    "\n",
    "\n",
    "#Loop to get a range for comparing models.\n",
    "for i in range(10):\n",
    "    no_attrition_df_test = no_attrition_df.sample(n=123)\n",
    "    no_attrition_df_train = no_attrition_df\n",
    "    no_attrition_df_train[~no_attrition_df_train.isin(no_attrition_df_test)].dropna()\n",
    "    yes_attrition_df_train = yes_attrition_df\n",
    "    yes_attrition_df_test = yes_attrition_df.sample(n=24)\n",
    "    yes_attrition_df_train[~yes_attrition_df_train.isin(yes_attrition_df_test)].dropna()\n",
    "    df_train = yes_attrition_df_train.append(no_attrition_df_train)\n",
    "    df_test = yes_attrition_df_test.append(no_attrition_df_test)\n",
    "    y_train = df_train['Attrition']\n",
    "    X_train = df_train.drop('Attrition',axis=1)\n",
    "    y_test = df_test['Attrition']\n",
    "    X_test = df_test.drop('Attrition',axis=1)\n",
    "    #Random Forrests Analyzer Model.\n",
    "    rfa.fit(X_train,y_train)\n",
    "    # Predict the results for test set\n",
    "    test_pred = rfa.predict(X_test)\n",
    "    # Accuracy Reader\n",
    "    rfa_accuracy[i]=accuracy_score(y_test, test_pred)\n",
    "    #Logistic Regression.\n",
    "    log.fit(X_train, y_train)\n",
    "    y_pred=log.predict(X_test)\n",
    "    #Accuracy reader\n",
    "    log_accuracy[i]=accuracy_score(y_test, y_pred)\n",
    "     # Extra Trees Classifier\n",
    "    etc.fit(X_train,y_train)\n",
    "    # Predict the results for test set\n",
    "    y_pred = etc.predict(X_test)\n",
    "    # Test the accuracy\n",
    "    etc_accuracy[i]=accuracy_score(y_test, y_pred)\n",
    "    #SVM\n",
    "    x_train = preprocessing.scale(X_train)\n",
    "    x_test = preprocessing.scale(X_test)\n",
    "    svc.fit(x_train, y_train)\n",
    "    y_pred = svc.predict(x_test)\n",
    "    svc_accuracy[i]= accuracy_score(y_test, y_pred)\n",
    "    #knn\n",
    "    knn.fit(X_train, y_train)\n",
    "    y_pred = knn.predict(X_test)\n",
    "    knn_accuracy[i]= accuracy_score(y_test, y_pred)\n",
    "    #GaussianNB\n",
    "    gnb.fit(X_train, y_train)\n",
    "    y_pred = gnb.predict(X_test)\n",
    "    gnb_accuracy[i]=accuracy_score(y_test, y_pred)"
   ]
  },
  {
   "cell_type": "code",
   "execution_count": null,
   "metadata": {
    "colab": {
     "base_uri": "https://localhost:8080/",
     "height": 333
    },
    "colab_type": "code",
    "id": "fyMtPkg-s4aT",
    "outputId": "57d84a03-de64-4204-e88a-e9496f28d134"
   },
   "outputs": [
    {
     "data": {
      "image/png": "iVBORw0KGgoAAAANSUhEUgAAAYUAAAE8CAYAAAAv5q31AAAABHNCSVQICAgIfAhkiAAAAAlwSFlz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\nZlZxUDAzs4qDgpmZVRwUzMys8v8BO2NUTkIl1bEAAAAASUVORK5CYII=\n",
      "text/plain": [
       "<Figure size 432x288 with 1 Axes>"
      ]
     },
     "metadata": {
      "tags": []
     },
     "output_type": "display_data"
    }
   ],
   "source": [
    "#Plotting to compare the models.\n",
    "rfa_accuracy  = np.asarray(rfa_accuracy)\n",
    "log_accuracy = np.asarray(log_accuracy)\n",
    "svc_accuracy = np.asarray(svc_accuracy)\n",
    "etc_accuracy = np.asarray(etc_accuracy)\n",
    "knn_accuracy = np.asarray(knn_accuracy)\n",
    "gnb_accuracy = np.asarray(gnb_accuracy)\n",
    "data_to_plot = [rfa_accuracy,log_accuracy,svc_accuracy,etc_accuracy,knn_accuracy,gnb_accuracy]\n",
    "plt.boxplot(data_to_plot)\n",
    "axes = plt.gca()\n",
    "axes.set_ylim([0.5,1.0])\n",
    "plt.xticks([1,2,3,4,5,6],['Random Forests','Logistic Regression','SVM','Extra Trees Classifier','K Nearest Neighbor','Gaussian NB'])\n",
    "plt.xticks(rotation=30)\n",
    "plt.title('Model Comaprison')\n",
    "plt.show()"
   ]
  },
  {
   "cell_type": "code",
   "execution_count": null,
   "metadata": {
    "colab": {},
    "colab_type": "code",
    "id": "fXypIDl7tBWU"
   },
   "outputs": [],
   "source": [
    "#After Hyperparameter tuning\n",
    "\n",
    "rfa_hyp_accuracy = [None]*10\n",
    "log_hyp_accuracy = [None]*10\n",
    "svc_hyp_accuracy = [None]*10\n",
    "knn_hyp_accuracy = [None]*10\n",
    "etc_hyp_accuracy = [None]*10\n",
    "gnb_hyp_accuracy = [None]*10\n",
    "\n",
    "rfa = RandomForestClassifier()\n",
    "#hyper parameters set\n",
    "params = {'criterion':['gini','entropy'],\n",
    "          'n_estimators':[10,15,20,25],\n",
    "          'min_samples_leaf':[1,2,3],\n",
    "          'min_samples_split':[3,4,5,6,7], \n",
    "          'random_state':[124,100],\n",
    "          'n_jobs':[-1]}\n",
    "rfa_hyp = GridSearchCV(model, param_grid=params, n_jobs=-1)\n",
    "\n",
    "#Hyper parameter tuning for Logistic Regression\n",
    "penalty = ['l1', 'l2']\n",
    "# Create regularization hyperparameter space\n",
    "C = np.logspace(0, 4, 10)\n",
    "# Create hyperparameter options\n",
    "hyperparameters = dict(C=C, penalty=penalty)\n",
    "logreg = LogisticRegression(random_state = 52, C = 10)\n",
    "log_hyp = GridSearchCV(logreg, hyperparameters, cv=5, verbose=0)\n",
    "\n",
    "#hyperparameter tuning for SVM\n",
    "# defining parameter range \n",
    "param_grid = {'C': [0.1, 1, 10, 100, 1000],  \n",
    "              'gamma': [1, 0.1, 0.01, 0.001, 0.0001], \n",
    "              'kernel': ['rbf']}  \n",
    "  \n",
    "svc_hyp = GridSearchCV(SVC(), param_grid, refit = True, verbose = 3) \n",
    "#Knn\n",
    "# creating odd list of K for KNN\n",
    "neighbors = list(range(1, 50, 2))\n",
    "\n",
    "#hyerparameter for ETC\n",
    "params = {'criterion':['gini'],\n",
    "          'n_estimators':[16, 32],\n",
    "          'min_samples_leaf':[1],\n",
    "          'min_samples_split':[2], \n",
    "          'random_state':[124, 100],\n",
    "          'n_jobs':[-1]}\n",
    "\n",
    "#Making models with hyper parameters sets\n",
    "etc_hyp = GridSearchCV(etc, cv = 3, param_grid=params, n_jobs = -1)\n",
    "\n",
    "#hyper parameters set\n",
    "params = {\n",
    "    'var_smoothing': [0.5e-9, 1e-9, 5e-9, 1e-8, 1e-7, 5e-7, 7e-7, 1e-6, 5e-6, 1e-5, 1e-4, 1e-3],\n",
    "}\n",
    "#Making models with hyper parameters sets\n",
    "gnb_hyp = GridSearchCV(gnb, param_grid=params)\n"
   ]
  },
  {
   "cell_type": "code",
   "execution_count": null,
   "metadata": {
    "colab": {
     "base_uri": "https://localhost:8080/",
     "height": 810
    },
    "colab_type": "code",
    "id": "J9CWfjEStTTA",
    "outputId": "109fd73f-b9f6-45d5-abb8-89309275ff10"
   },
   "outputs": [
    {
     "name": "stderr",
     "output_type": "stream",
     "text": [
      "/usr/local/lib/python3.6/dist-packages/sklearn/model_selection/_split.py:1978: FutureWarning: The default value of cv will change from 3 to 5 in version 0.22. Specify it explicitly to silence this warning.\n",
      "  warnings.warn(CV_WARNING, FutureWarning)\n"
     ]
    },
    {
     "ename": "ValueError",
     "evalue": "ignored",
     "output_type": "error",
     "traceback": [
      "\u001b[0;31m---------------------------------------------------------------------------\u001b[0m",
      "\u001b[0;31m_RemoteTraceback\u001b[0m                          Traceback (most recent call last)",
      "\u001b[0;31m_RemoteTraceback\u001b[0m: \n\"\"\"\nTraceback (most recent call last):\n  File \"/usr/local/lib/python3.6/dist-packages/joblib/externals/loky/process_executor.py\", line 418, in _process_worker\n    r = call_item()\n  File \"/usr/local/lib/python3.6/dist-packages/joblib/externals/loky/process_executor.py\", line 272, in __call__\n    return self.fn(*self.args, **self.kwargs)\n  File \"/usr/local/lib/python3.6/dist-packages/joblib/_parallel_backends.py\", line 600, in __call__\n    return self.func(*args, **kwargs)\n  File \"/usr/local/lib/python3.6/dist-packages/joblib/parallel.py\", line 256, in __call__\n    for func, args, kwargs in self.items]\n  File \"/usr/local/lib/python3.6/dist-packages/joblib/parallel.py\", line 256, in <listcomp>\n    for func, args, kwargs in self.items]\n  File \"/usr/local/lib/python3.6/dist-packages/sklearn/model_selection/_validation.py\", line 503, in _fit_and_score\n    estimator.set_params(**parameters)\n  File \"/usr/local/lib/python3.6/dist-packages/sklearn/base.py\", line 224, in set_params\n    (key, self))\nValueError: Invalid parameter criterion for estimator GaussianNB(priors=None, var_smoothing=1e-09). Check the list of available parameters with `estimator.get_params().keys()`.\n\"\"\"",
      "\nThe above exception was the direct cause of the following exception:\n",
      "\u001b[0;31mValueError\u001b[0m                                Traceback (most recent call last)",
      "\u001b[0;32m<ipython-input-69-01b26fbd455d>\u001b[0m in \u001b[0;36m<module>\u001b[0;34m()\u001b[0m\n\u001b[1;32m     13\u001b[0m     \u001b[0mX_test\u001b[0m \u001b[0;34m=\u001b[0m \u001b[0mdf_test\u001b[0m\u001b[0;34m.\u001b[0m\u001b[0mdrop\u001b[0m\u001b[0;34m(\u001b[0m\u001b[0;34m'Attrition'\u001b[0m\u001b[0;34m,\u001b[0m\u001b[0maxis\u001b[0m\u001b[0;34m=\u001b[0m\u001b[0;36m1\u001b[0m\u001b[0;34m)\u001b[0m\u001b[0;34m\u001b[0m\u001b[0;34m\u001b[0m\u001b[0m\n\u001b[1;32m     14\u001b[0m     \u001b[0;31m#Random Forrests Analyzer Model.\u001b[0m\u001b[0;34m\u001b[0m\u001b[0;34m\u001b[0m\u001b[0;34m\u001b[0m\u001b[0m\n\u001b[0;32m---> 15\u001b[0;31m     \u001b[0mrfa_hyp\u001b[0m\u001b[0;34m.\u001b[0m\u001b[0mfit\u001b[0m\u001b[0;34m(\u001b[0m\u001b[0mX_train\u001b[0m\u001b[0;34m,\u001b[0m\u001b[0my_train\u001b[0m\u001b[0;34m)\u001b[0m\u001b[0;34m\u001b[0m\u001b[0;34m\u001b[0m\u001b[0m\n\u001b[0m\u001b[1;32m     16\u001b[0m     \u001b[0;31m# Predict the results for test set\u001b[0m\u001b[0;34m\u001b[0m\u001b[0;34m\u001b[0m\u001b[0;34m\u001b[0m\u001b[0m\n\u001b[1;32m     17\u001b[0m     \u001b[0mtest_pred\u001b[0m \u001b[0;34m=\u001b[0m \u001b[0mrfa_hyp\u001b[0m\u001b[0;34m.\u001b[0m\u001b[0mpredict\u001b[0m\u001b[0;34m(\u001b[0m\u001b[0mX_test\u001b[0m\u001b[0;34m)\u001b[0m\u001b[0;34m\u001b[0m\u001b[0;34m\u001b[0m\u001b[0m\n",
      "\u001b[0;32m/usr/local/lib/python3.6/dist-packages/sklearn/model_selection/_search.py\u001b[0m in \u001b[0;36mfit\u001b[0;34m(self, X, y, groups, **fit_params)\u001b[0m\n\u001b[1;32m    686\u001b[0m                 \u001b[0;32mreturn\u001b[0m \u001b[0mresults\u001b[0m\u001b[0;34m\u001b[0m\u001b[0;34m\u001b[0m\u001b[0m\n\u001b[1;32m    687\u001b[0m \u001b[0;34m\u001b[0m\u001b[0m\n\u001b[0;32m--> 688\u001b[0;31m             \u001b[0mself\u001b[0m\u001b[0;34m.\u001b[0m\u001b[0m_run_search\u001b[0m\u001b[0;34m(\u001b[0m\u001b[0mevaluate_candidates\u001b[0m\u001b[0;34m)\u001b[0m\u001b[0;34m\u001b[0m\u001b[0;34m\u001b[0m\u001b[0m\n\u001b[0m\u001b[1;32m    689\u001b[0m \u001b[0;34m\u001b[0m\u001b[0m\n\u001b[1;32m    690\u001b[0m         \u001b[0;31m# For multi-metric evaluation, store the best_index_, best_params_ and\u001b[0m\u001b[0;34m\u001b[0m\u001b[0;34m\u001b[0m\u001b[0;34m\u001b[0m\u001b[0m\n",
      "\u001b[0;32m/usr/local/lib/python3.6/dist-packages/sklearn/model_selection/_search.py\u001b[0m in \u001b[0;36m_run_search\u001b[0;34m(self, evaluate_candidates)\u001b[0m\n\u001b[1;32m   1147\u001b[0m     \u001b[0;32mdef\u001b[0m \u001b[0m_run_search\u001b[0m\u001b[0;34m(\u001b[0m\u001b[0mself\u001b[0m\u001b[0;34m,\u001b[0m \u001b[0mevaluate_candidates\u001b[0m\u001b[0;34m)\u001b[0m\u001b[0;34m:\u001b[0m\u001b[0;34m\u001b[0m\u001b[0;34m\u001b[0m\u001b[0m\n\u001b[1;32m   1148\u001b[0m         \u001b[0;34m\"\"\"Search all candidates in param_grid\"\"\"\u001b[0m\u001b[0;34m\u001b[0m\u001b[0;34m\u001b[0m\u001b[0m\n\u001b[0;32m-> 1149\u001b[0;31m         \u001b[0mevaluate_candidates\u001b[0m\u001b[0;34m(\u001b[0m\u001b[0mParameterGrid\u001b[0m\u001b[0;34m(\u001b[0m\u001b[0mself\u001b[0m\u001b[0;34m.\u001b[0m\u001b[0mparam_grid\u001b[0m\u001b[0;34m)\u001b[0m\u001b[0;34m)\u001b[0m\u001b[0;34m\u001b[0m\u001b[0;34m\u001b[0m\u001b[0m\n\u001b[0m\u001b[1;32m   1150\u001b[0m \u001b[0;34m\u001b[0m\u001b[0m\n\u001b[1;32m   1151\u001b[0m \u001b[0;34m\u001b[0m\u001b[0m\n",
      "\u001b[0;32m/usr/local/lib/python3.6/dist-packages/sklearn/model_selection/_search.py\u001b[0m in \u001b[0;36mevaluate_candidates\u001b[0;34m(candidate_params)\u001b[0m\n\u001b[1;32m    665\u001b[0m                                \u001b[0;32mfor\u001b[0m \u001b[0mparameters\u001b[0m\u001b[0;34m,\u001b[0m \u001b[0;34m(\u001b[0m\u001b[0mtrain\u001b[0m\u001b[0;34m,\u001b[0m \u001b[0mtest\u001b[0m\u001b[0;34m)\u001b[0m\u001b[0;34m\u001b[0m\u001b[0;34m\u001b[0m\u001b[0m\n\u001b[1;32m    666\u001b[0m                                in product(candidate_params,\n\u001b[0;32m--> 667\u001b[0;31m                                           cv.split(X, y, groups)))\n\u001b[0m\u001b[1;32m    668\u001b[0m \u001b[0;34m\u001b[0m\u001b[0m\n\u001b[1;32m    669\u001b[0m                 \u001b[0;32mif\u001b[0m \u001b[0mlen\u001b[0m\u001b[0;34m(\u001b[0m\u001b[0mout\u001b[0m\u001b[0;34m)\u001b[0m \u001b[0;34m<\u001b[0m \u001b[0;36m1\u001b[0m\u001b[0;34m:\u001b[0m\u001b[0;34m\u001b[0m\u001b[0;34m\u001b[0m\u001b[0m\n",
      "\u001b[0;32m/usr/local/lib/python3.6/dist-packages/joblib/parallel.py\u001b[0m in \u001b[0;36m__call__\u001b[0;34m(self, iterable)\u001b[0m\n\u001b[1;32m   1014\u001b[0m \u001b[0;34m\u001b[0m\u001b[0m\n\u001b[1;32m   1015\u001b[0m             \u001b[0;32mwith\u001b[0m \u001b[0mself\u001b[0m\u001b[0;34m.\u001b[0m\u001b[0m_backend\u001b[0m\u001b[0;34m.\u001b[0m\u001b[0mretrieval_context\u001b[0m\u001b[0;34m(\u001b[0m\u001b[0;34m)\u001b[0m\u001b[0;34m:\u001b[0m\u001b[0;34m\u001b[0m\u001b[0;34m\u001b[0m\u001b[0m\n\u001b[0;32m-> 1016\u001b[0;31m                 \u001b[0mself\u001b[0m\u001b[0;34m.\u001b[0m\u001b[0mretrieve\u001b[0m\u001b[0;34m(\u001b[0m\u001b[0;34m)\u001b[0m\u001b[0;34m\u001b[0m\u001b[0;34m\u001b[0m\u001b[0m\n\u001b[0m\u001b[1;32m   1017\u001b[0m             \u001b[0;31m# Make sure that we get a last message telling us we are done\u001b[0m\u001b[0;34m\u001b[0m\u001b[0;34m\u001b[0m\u001b[0;34m\u001b[0m\u001b[0m\n\u001b[1;32m   1018\u001b[0m             \u001b[0melapsed_time\u001b[0m \u001b[0;34m=\u001b[0m \u001b[0mtime\u001b[0m\u001b[0;34m.\u001b[0m\u001b[0mtime\u001b[0m\u001b[0;34m(\u001b[0m\u001b[0;34m)\u001b[0m \u001b[0;34m-\u001b[0m \u001b[0mself\u001b[0m\u001b[0;34m.\u001b[0m\u001b[0m_start_time\u001b[0m\u001b[0;34m\u001b[0m\u001b[0;34m\u001b[0m\u001b[0m\n",
      "\u001b[0;32m/usr/local/lib/python3.6/dist-packages/joblib/parallel.py\u001b[0m in \u001b[0;36mretrieve\u001b[0;34m(self)\u001b[0m\n\u001b[1;32m    906\u001b[0m             \u001b[0;32mtry\u001b[0m\u001b[0;34m:\u001b[0m\u001b[0;34m\u001b[0m\u001b[0;34m\u001b[0m\u001b[0m\n\u001b[1;32m    907\u001b[0m                 \u001b[0;32mif\u001b[0m \u001b[0mgetattr\u001b[0m\u001b[0;34m(\u001b[0m\u001b[0mself\u001b[0m\u001b[0;34m.\u001b[0m\u001b[0m_backend\u001b[0m\u001b[0;34m,\u001b[0m \u001b[0;34m'supports_timeout'\u001b[0m\u001b[0;34m,\u001b[0m \u001b[0;32mFalse\u001b[0m\u001b[0;34m)\u001b[0m\u001b[0;34m:\u001b[0m\u001b[0;34m\u001b[0m\u001b[0;34m\u001b[0m\u001b[0m\n\u001b[0;32m--> 908\u001b[0;31m                     \u001b[0mself\u001b[0m\u001b[0;34m.\u001b[0m\u001b[0m_output\u001b[0m\u001b[0;34m.\u001b[0m\u001b[0mextend\u001b[0m\u001b[0;34m(\u001b[0m\u001b[0mjob\u001b[0m\u001b[0;34m.\u001b[0m\u001b[0mget\u001b[0m\u001b[0;34m(\u001b[0m\u001b[0mtimeout\u001b[0m\u001b[0;34m=\u001b[0m\u001b[0mself\u001b[0m\u001b[0;34m.\u001b[0m\u001b[0mtimeout\u001b[0m\u001b[0;34m)\u001b[0m\u001b[0;34m)\u001b[0m\u001b[0;34m\u001b[0m\u001b[0;34m\u001b[0m\u001b[0m\n\u001b[0m\u001b[1;32m    909\u001b[0m                 \u001b[0;32melse\u001b[0m\u001b[0;34m:\u001b[0m\u001b[0;34m\u001b[0m\u001b[0;34m\u001b[0m\u001b[0m\n\u001b[1;32m    910\u001b[0m                     \u001b[0mself\u001b[0m\u001b[0;34m.\u001b[0m\u001b[0m_output\u001b[0m\u001b[0;34m.\u001b[0m\u001b[0mextend\u001b[0m\u001b[0;34m(\u001b[0m\u001b[0mjob\u001b[0m\u001b[0;34m.\u001b[0m\u001b[0mget\u001b[0m\u001b[0;34m(\u001b[0m\u001b[0;34m)\u001b[0m\u001b[0;34m)\u001b[0m\u001b[0;34m\u001b[0m\u001b[0;34m\u001b[0m\u001b[0m\n",
      "\u001b[0;32m/usr/local/lib/python3.6/dist-packages/joblib/_parallel_backends.py\u001b[0m in \u001b[0;36mwrap_future_result\u001b[0;34m(future, timeout)\u001b[0m\n\u001b[1;32m    552\u001b[0m         AsyncResults.get from multiprocessing.\"\"\"\n\u001b[1;32m    553\u001b[0m         \u001b[0;32mtry\u001b[0m\u001b[0;34m:\u001b[0m\u001b[0;34m\u001b[0m\u001b[0;34m\u001b[0m\u001b[0m\n\u001b[0;32m--> 554\u001b[0;31m             \u001b[0;32mreturn\u001b[0m \u001b[0mfuture\u001b[0m\u001b[0;34m.\u001b[0m\u001b[0mresult\u001b[0m\u001b[0;34m(\u001b[0m\u001b[0mtimeout\u001b[0m\u001b[0;34m=\u001b[0m\u001b[0mtimeout\u001b[0m\u001b[0;34m)\u001b[0m\u001b[0;34m\u001b[0m\u001b[0;34m\u001b[0m\u001b[0m\n\u001b[0m\u001b[1;32m    555\u001b[0m         \u001b[0;32mexcept\u001b[0m \u001b[0mLokyTimeoutError\u001b[0m\u001b[0;34m:\u001b[0m\u001b[0;34m\u001b[0m\u001b[0;34m\u001b[0m\u001b[0m\n\u001b[1;32m    556\u001b[0m             \u001b[0;32mraise\u001b[0m \u001b[0mTimeoutError\u001b[0m\u001b[0;34m(\u001b[0m\u001b[0;34m)\u001b[0m\u001b[0;34m\u001b[0m\u001b[0;34m\u001b[0m\u001b[0m\n",
      "\u001b[0;32m/usr/lib/python3.6/concurrent/futures/_base.py\u001b[0m in \u001b[0;36mresult\u001b[0;34m(self, timeout)\u001b[0m\n\u001b[1;32m    430\u001b[0m                 \u001b[0;32mraise\u001b[0m \u001b[0mCancelledError\u001b[0m\u001b[0;34m(\u001b[0m\u001b[0;34m)\u001b[0m\u001b[0;34m\u001b[0m\u001b[0;34m\u001b[0m\u001b[0m\n\u001b[1;32m    431\u001b[0m             \u001b[0;32melif\u001b[0m \u001b[0mself\u001b[0m\u001b[0;34m.\u001b[0m\u001b[0m_state\u001b[0m \u001b[0;34m==\u001b[0m \u001b[0mFINISHED\u001b[0m\u001b[0;34m:\u001b[0m\u001b[0;34m\u001b[0m\u001b[0;34m\u001b[0m\u001b[0m\n\u001b[0;32m--> 432\u001b[0;31m                 \u001b[0;32mreturn\u001b[0m \u001b[0mself\u001b[0m\u001b[0;34m.\u001b[0m\u001b[0m__get_result\u001b[0m\u001b[0;34m(\u001b[0m\u001b[0;34m)\u001b[0m\u001b[0;34m\u001b[0m\u001b[0;34m\u001b[0m\u001b[0m\n\u001b[0m\u001b[1;32m    433\u001b[0m             \u001b[0;32melse\u001b[0m\u001b[0;34m:\u001b[0m\u001b[0;34m\u001b[0m\u001b[0;34m\u001b[0m\u001b[0m\n\u001b[1;32m    434\u001b[0m                 \u001b[0;32mraise\u001b[0m \u001b[0mTimeoutError\u001b[0m\u001b[0;34m(\u001b[0m\u001b[0;34m)\u001b[0m\u001b[0;34m\u001b[0m\u001b[0;34m\u001b[0m\u001b[0m\n",
      "\u001b[0;32m/usr/lib/python3.6/concurrent/futures/_base.py\u001b[0m in \u001b[0;36m__get_result\u001b[0;34m(self)\u001b[0m\n\u001b[1;32m    382\u001b[0m     \u001b[0;32mdef\u001b[0m \u001b[0m__get_result\u001b[0m\u001b[0;34m(\u001b[0m\u001b[0mself\u001b[0m\u001b[0;34m)\u001b[0m\u001b[0;34m:\u001b[0m\u001b[0;34m\u001b[0m\u001b[0;34m\u001b[0m\u001b[0m\n\u001b[1;32m    383\u001b[0m         \u001b[0;32mif\u001b[0m \u001b[0mself\u001b[0m\u001b[0;34m.\u001b[0m\u001b[0m_exception\u001b[0m\u001b[0;34m:\u001b[0m\u001b[0;34m\u001b[0m\u001b[0;34m\u001b[0m\u001b[0m\n\u001b[0;32m--> 384\u001b[0;31m             \u001b[0;32mraise\u001b[0m \u001b[0mself\u001b[0m\u001b[0;34m.\u001b[0m\u001b[0m_exception\u001b[0m\u001b[0;34m\u001b[0m\u001b[0;34m\u001b[0m\u001b[0m\n\u001b[0m\u001b[1;32m    385\u001b[0m         \u001b[0;32melse\u001b[0m\u001b[0;34m:\u001b[0m\u001b[0;34m\u001b[0m\u001b[0;34m\u001b[0m\u001b[0m\n\u001b[1;32m    386\u001b[0m             \u001b[0;32mreturn\u001b[0m \u001b[0mself\u001b[0m\u001b[0;34m.\u001b[0m\u001b[0m_result\u001b[0m\u001b[0;34m\u001b[0m\u001b[0;34m\u001b[0m\u001b[0m\n",
      "\u001b[0;31mValueError\u001b[0m: Invalid parameter criterion for estimator GaussianNB(priors=None, var_smoothing=1e-09). Check the list of available parameters with `estimator.get_params().keys()`."
     ]
    }
   ],
   "source": [
    "# Box plot for comparing accuracy\n",
    "for i in range(10):\n",
    "    no_attrition_df_test = no_attrition_df.sample(n=123)\n",
    "    no_attrition_df_train = no_attrition_df\n",
    "    no_attrition_df_train[~no_attrition_df_train.isin(no_attrition_df_test)].dropna()\n",
    "    yes_attrition_df_train = yes_attrition_df\n",
    "    yes_attrition_df_test = yes_attrition_df.sample(n=24)\n",
    "    yes_attrition_df_train[~yes_attrition_df_train.isin(yes_attrition_df_test)].dropna()\n",
    "    df_train = yes_attrition_df_train.append(no_attrition_df_train)\n",
    "    df_test = yes_attrition_df_test.append(no_attrition_df_test)\n",
    "    y_train = df_train['Attrition']\n",
    "    X_train = df_train.drop('Attrition',axis=1)\n",
    "    y_test = df_test['Attrition']\n",
    "    X_test = df_test.drop('Attrition',axis=1)\n",
    "    #Random Forrests Analyzer Model.\n",
    "    rfa_hyp.fit(X_train,y_train)\n",
    "    # Predict the results for test set\n",
    "    test_pred = rfa_hyp.predict(X_test)\n",
    "    # Accuracy Reader\n",
    "    rfa_accuracy[i]=accuracy_score(y_test, test_pred)\n",
    "    #Logistic Regression.\n",
    "    log_hyp.fit(X_train, y_train)\n",
    "    y_pred=log_hyp.predict(X_test)\n",
    "    #Accuracy reader\n",
    "    log_accuracy[i]=accuracy_score(y_test, y_pred)\n",
    "     # Extra Trees Classifier\n",
    "    etc_hyp.fit(X_train,y_train)\n",
    "    # Predict the results for test set\n",
    "    y_pred = etc_hyp.predict(X_test)\n",
    "    # Test the accuracy\n",
    "    etc_hyp_accuracy[i]=accuracy_score(y_test, y_pred)\n",
    "    #SVM\n",
    "    x_train = preprocessing.scale(X_train)\n",
    "    x_test = preprocessing.scale(X_test)\n",
    "    svc_hyp.fit(x_train, y_train)\n",
    "    y_pred = svc_hyp.predict(x_test)\n",
    "    svc_accuracy[i]= accuracy_score(y_test, y_pred)\n",
    "    #knn\n",
    "    # empty list that will hold cv scores\n",
    "    cv_scores = []\n",
    "    for k in neighbors:\n",
    "        knn = KNeighborsClassifier(n_neighbors=k)\n",
    "        scores = cross_val_score(knn, X_train, y_train, cv=10, scoring='accuracy')\n",
    "        cv_scores.append(scores.mean())\n",
    "    # changing to misclassification error\n",
    "    mse = [1 - x for x in cv_scores]\n",
    "    # determining best k\n",
    "    optimal_k = neighbors[mse.index(min(mse))]\n",
    "    knn_hyp = KNeighborsClassifier(n_neighbors=optimal_k)\n",
    "    #knn\n",
    "    knn_hyp.fit(X_train, y_train)\n",
    "    y_pred = knn_hyp.predict(X_test)\n",
    "    knn_accuracy[i]= accuracy_score(y_test, y_pred)\n",
    "    #GaussianNB\n",
    "    gnb_hyp.fit(X_train, y_train)\n",
    "    y_pred = gnb_hyp.predict(X_test)\n",
    "    gnb_hyp_accuracy[i]=accuracy_score(y_test, y_pred)\n"
   ]
  },
  {
   "cell_type": "code",
   "execution_count": null,
   "metadata": {
    "colab": {},
    "colab_type": "code",
    "id": "Y4Lgve7vuJie"
   },
   "outputs": [],
   "source": [
    "rfa_hyp_accuracy  = np.asarray(rfa_hyp_accuracy)\n",
    "log_hyp_accuracy = np.asarray(log_hyp_accuracy)\n",
    "svc_hyp_accuracy = np.asarray(svc_hyp_accuracy)\n",
    "etc_hyp_accuracy = np.asarray(etc_hyp_accuracy)\n",
    "knn_hyp_accuracy = np.asarray(knn_hyp_accuracy)\n",
    "gnb_hyp_accuracy = np.asarray(gnb_hyp_accuracy)\n",
    "data_to_plot = [rfa_hyp_accuracy,log_hyp_accuracy,svc_hyp_accuracy,etc_hyp_accuracy,knn_hyp_accuracy,gnb_hyp_accuracy]\n",
    "plt.boxplot(data_to_plot)\n",
    "axes = plt.gca()\n",
    "axes.set_ylim([0.5,1.0])\n",
    "plt.xticks([1,2,3,4,5,6],['Random Forests','Logistic Regression','SVM','Extra Trees Classifier','K Nearest Neighbor','Gaussian NB'])\n",
    "plt.xticks(rotation=30)\n",
    "plt.title('Model Comaprison After Tuning' )\n",
    "plt.show()"
   ]
  },
  {
   "cell_type": "code",
   "execution_count": null,
   "metadata": {
    "colab": {},
    "colab_type": "code",
    "id": "xeMur786-uTa"
   },
   "outputs": [],
   "source": [
    "before = pd.DataFrame({'Random Forests':rfa_accuracy,'Logistic Regression':log_accuracy,'SVM':svc_accuracy,'KNN':knn_accuracy,'Extra Trees Classifier':etc_accuracy,'GaussianNB':gnb_accuracy,'Tuning':['No']*10})\n",
    "before\n",
    "after = pd.DataFrame({'Random Forests':rfa_hyp_accuracy,'Logistic Regression':log_hyp_accuracy,'SVM':svc_hyp_accuracy,'KNN':knn_hyp_accuracy,'Extra Trees Classifier':etc_hyp_accuracy,'GaussianNB':gnb_hyp_accuracy,'Tuning':['Yes']*10})\n",
    "after\n",
    "\n",
    "my = pd.concat([before,after])\n",
    "my\n",
    "\n",
    "my.boxplot(by='Tuning',layout=(2,4),rot=30)\n",
    "plt.suptitle('')"
   ]
  }
 ],
 "metadata": {
  "colab": {
   "collapsed_sections": [],
   "name": "Assignment_1.ipynb",
   "provenance": []
  },
  "kernelspec": {
   "display_name": "Python 3 (ipykernel)",
   "language": "python",
   "name": "python3"
  },
  "language_info": {
   "codemirror_mode": {
    "name": "ipython",
    "version": 3
   },
   "file_extension": ".py",
   "mimetype": "text/x-python",
   "name": "python",
   "nbconvert_exporter": "python",
   "pygments_lexer": "ipython3",
   "version": "3.8.8"
  }
 },
 "nbformat": 4,
 "nbformat_minor": 4
}
